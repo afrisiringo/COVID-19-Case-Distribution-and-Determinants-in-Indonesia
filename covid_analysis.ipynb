{
 "cells": [
  {
   "cell_type": "markdown",
   "metadata": {},
   "source": [
    "# **COVID-19 Case Distribution and Determinants in Indonesia**"
   ]
  },
  {
   "cell_type": "markdown",
   "metadata": {},
   "source": [
    "## Background\n",
    "\n",
    "We are data analysts of a health organization tasked with analyzing covid data in Indonesia. This data will be used as a reference when a new outbreak such as covid occurs."
   ]
  },
  {
   "cell_type": "markdown",
   "metadata": {},
   "source": [
    "## Objective\n",
    "\n",
    "Analyzing the trend of Covid spread in Indonesia and the influence of population density on the total number of new cases in the regions"
   ]
  },
  {
   "cell_type": "code",
   "execution_count": 56,
   "metadata": {},
   "outputs": [],
   "source": [
    "# Data manipulation\n",
    "import pandas as pd\n",
    "\n",
    "# Data viz\n",
    "import matplotlib.pyplot as plt\n",
    "import plotly.express as px\n",
    "\n",
    "# SQL command\n",
    "import duckdb as db\n",
    "\n",
    "# Map\n",
    "import folium"
   ]
  },
  {
   "cell_type": "code",
   "execution_count": 19,
   "metadata": {},
   "outputs": [],
   "source": [
    "# choose chart style\n",
    "import matplotlib as mpl\n",
    "mpl.style.use('ggplot')"
   ]
  },
  {
   "cell_type": "code",
   "execution_count": 2,
   "metadata": {},
   "outputs": [],
   "source": [
    "# define function to run SQL queries\n",
    "def sql(sql_query: str) -> pd.DataFrame:\n",
    "    return db.sql(sql_query).to_df()"
   ]
  },
  {
   "cell_type": "code",
   "execution_count": 73,
   "metadata": {},
   "outputs": [],
   "source": [
    "# Set display maximum columns\n",
    "pd.set_option('display.max_columns', None)"
   ]
  },
  {
   "cell_type": "markdown",
   "metadata": {},
   "source": [
    "## Load and explore data"
   ]
  },
  {
   "cell_type": "code",
   "execution_count": 4,
   "metadata": {},
   "outputs": [
    {
     "data": {
      "text/html": [
       "<div>\n",
       "<style scoped>\n",
       "    .dataframe tbody tr th:only-of-type {\n",
       "        vertical-align: middle;\n",
       "    }\n",
       "\n",
       "    .dataframe tbody tr th {\n",
       "        vertical-align: top;\n",
       "    }\n",
       "\n",
       "    .dataframe thead th {\n",
       "        text-align: right;\n",
       "    }\n",
       "</style>\n",
       "<table border=\"1\" class=\"dataframe\">\n",
       "  <thead>\n",
       "    <tr style=\"text-align: right;\">\n",
       "      <th></th>\n",
       "      <th>Date</th>\n",
       "      <th>Location ISO Code</th>\n",
       "      <th>Location</th>\n",
       "      <th>New Cases</th>\n",
       "      <th>New Deaths</th>\n",
       "      <th>New Recovered</th>\n",
       "      <th>New Active Cases</th>\n",
       "      <th>Total Cases</th>\n",
       "      <th>Total Deaths</th>\n",
       "      <th>Total Recovered</th>\n",
       "      <th>Total Active Cases</th>\n",
       "      <th>Location Level</th>\n",
       "      <th>City or Regency</th>\n",
       "      <th>Province</th>\n",
       "      <th>Country</th>\n",
       "      <th>Continent</th>\n",
       "      <th>Island</th>\n",
       "      <th>Time Zone</th>\n",
       "      <th>Special Status</th>\n",
       "      <th>Total Regencies</th>\n",
       "      <th>Total Cities</th>\n",
       "      <th>Total Districts</th>\n",
       "      <th>Total Urban Villages</th>\n",
       "      <th>Total Rural Villages</th>\n",
       "      <th>Area (km2)</th>\n",
       "      <th>Population</th>\n",
       "      <th>Population Density</th>\n",
       "      <th>Longitude</th>\n",
       "      <th>Latitude</th>\n",
       "      <th>New Cases per Million</th>\n",
       "      <th>Total Cases per Million</th>\n",
       "      <th>New Deaths per Million</th>\n",
       "      <th>Total Deaths per Million</th>\n",
       "      <th>Total Deaths per 100rb</th>\n",
       "      <th>Case Fatality Rate</th>\n",
       "      <th>Case Recovered Rate</th>\n",
       "      <th>Growth Factor of New Cases</th>\n",
       "      <th>Growth Factor of New Deaths</th>\n",
       "    </tr>\n",
       "  </thead>\n",
       "  <tbody>\n",
       "    <tr>\n",
       "      <th>0</th>\n",
       "      <td>2020-03-01</td>\n",
       "      <td>ID-JK</td>\n",
       "      <td>DKI Jakarta</td>\n",
       "      <td>2</td>\n",
       "      <td>0</td>\n",
       "      <td>0</td>\n",
       "      <td>2</td>\n",
       "      <td>39</td>\n",
       "      <td>20</td>\n",
       "      <td>75</td>\n",
       "      <td>-56</td>\n",
       "      <td>Province</td>\n",
       "      <td>NaN</td>\n",
       "      <td>DKI Jakarta</td>\n",
       "      <td>Indonesia</td>\n",
       "      <td>Asia</td>\n",
       "      <td>Jawa</td>\n",
       "      <td>UTC+07:00</td>\n",
       "      <td>Daerah Khusus Ibu Kota</td>\n",
       "      <td>1</td>\n",
       "      <td>5.0</td>\n",
       "      <td>44</td>\n",
       "      <td>267.0</td>\n",
       "      <td>NaN</td>\n",
       "      <td>664</td>\n",
       "      <td>10846145</td>\n",
       "      <td>16334.31</td>\n",
       "      <td>106.836118</td>\n",
       "      <td>-6.204699</td>\n",
       "      <td>0.18</td>\n",
       "      <td>3.60</td>\n",
       "      <td>0.0</td>\n",
       "      <td>1.84</td>\n",
       "      <td>0.18</td>\n",
       "      <td>51.28%</td>\n",
       "      <td>192.31%</td>\n",
       "      <td>NaN</td>\n",
       "      <td>NaN</td>\n",
       "    </tr>\n",
       "    <tr>\n",
       "      <th>1</th>\n",
       "      <td>2020-03-02</td>\n",
       "      <td>ID-JK</td>\n",
       "      <td>DKI Jakarta</td>\n",
       "      <td>2</td>\n",
       "      <td>0</td>\n",
       "      <td>0</td>\n",
       "      <td>2</td>\n",
       "      <td>41</td>\n",
       "      <td>20</td>\n",
       "      <td>75</td>\n",
       "      <td>-54</td>\n",
       "      <td>Province</td>\n",
       "      <td>NaN</td>\n",
       "      <td>DKI Jakarta</td>\n",
       "      <td>Indonesia</td>\n",
       "      <td>Asia</td>\n",
       "      <td>Jawa</td>\n",
       "      <td>UTC+07:00</td>\n",
       "      <td>Daerah Khusus Ibu Kota</td>\n",
       "      <td>1</td>\n",
       "      <td>5.0</td>\n",
       "      <td>44</td>\n",
       "      <td>267.0</td>\n",
       "      <td>NaN</td>\n",
       "      <td>664</td>\n",
       "      <td>10846145</td>\n",
       "      <td>16334.31</td>\n",
       "      <td>106.836118</td>\n",
       "      <td>-6.204699</td>\n",
       "      <td>0.18</td>\n",
       "      <td>3.78</td>\n",
       "      <td>0.0</td>\n",
       "      <td>1.84</td>\n",
       "      <td>0.18</td>\n",
       "      <td>48.78%</td>\n",
       "      <td>182.93%</td>\n",
       "      <td>1.0</td>\n",
       "      <td>1.0</td>\n",
       "    </tr>\n",
       "    <tr>\n",
       "      <th>2</th>\n",
       "      <td>2020-03-02</td>\n",
       "      <td>IDN</td>\n",
       "      <td>Indonesia</td>\n",
       "      <td>2</td>\n",
       "      <td>0</td>\n",
       "      <td>0</td>\n",
       "      <td>2</td>\n",
       "      <td>2</td>\n",
       "      <td>0</td>\n",
       "      <td>0</td>\n",
       "      <td>2</td>\n",
       "      <td>Country</td>\n",
       "      <td>NaN</td>\n",
       "      <td>NaN</td>\n",
       "      <td>Indonesia</td>\n",
       "      <td>Asia</td>\n",
       "      <td>NaN</td>\n",
       "      <td>NaN</td>\n",
       "      <td>NaN</td>\n",
       "      <td>416</td>\n",
       "      <td>98.0</td>\n",
       "      <td>7230</td>\n",
       "      <td>8488.0</td>\n",
       "      <td>74953.0</td>\n",
       "      <td>1916907</td>\n",
       "      <td>265185520</td>\n",
       "      <td>138.34</td>\n",
       "      <td>113.921327</td>\n",
       "      <td>-0.789275</td>\n",
       "      <td>0.01</td>\n",
       "      <td>0.01</td>\n",
       "      <td>0.0</td>\n",
       "      <td>0.00</td>\n",
       "      <td>0.00</td>\n",
       "      <td>0.00%</td>\n",
       "      <td>0.00%</td>\n",
       "      <td>NaN</td>\n",
       "      <td>NaN</td>\n",
       "    </tr>\n",
       "    <tr>\n",
       "      <th>3</th>\n",
       "      <td>2020-03-02</td>\n",
       "      <td>ID-RI</td>\n",
       "      <td>Riau</td>\n",
       "      <td>1</td>\n",
       "      <td>0</td>\n",
       "      <td>0</td>\n",
       "      <td>1</td>\n",
       "      <td>1</td>\n",
       "      <td>0</td>\n",
       "      <td>1</td>\n",
       "      <td>0</td>\n",
       "      <td>Province</td>\n",
       "      <td>NaN</td>\n",
       "      <td>Riau</td>\n",
       "      <td>Indonesia</td>\n",
       "      <td>Asia</td>\n",
       "      <td>Sumatera</td>\n",
       "      <td>UTC+07:00</td>\n",
       "      <td>NaN</td>\n",
       "      <td>10</td>\n",
       "      <td>2.0</td>\n",
       "      <td>169</td>\n",
       "      <td>268.0</td>\n",
       "      <td>1591.0</td>\n",
       "      <td>87024</td>\n",
       "      <td>6074100</td>\n",
       "      <td>69.80</td>\n",
       "      <td>101.805109</td>\n",
       "      <td>0.511648</td>\n",
       "      <td>0.16</td>\n",
       "      <td>0.16</td>\n",
       "      <td>0.0</td>\n",
       "      <td>0.00</td>\n",
       "      <td>0.00</td>\n",
       "      <td>0.00%</td>\n",
       "      <td>100.00%</td>\n",
       "      <td>NaN</td>\n",
       "      <td>NaN</td>\n",
       "    </tr>\n",
       "    <tr>\n",
       "      <th>4</th>\n",
       "      <td>2020-03-03</td>\n",
       "      <td>ID-JK</td>\n",
       "      <td>DKI Jakarta</td>\n",
       "      <td>2</td>\n",
       "      <td>0</td>\n",
       "      <td>0</td>\n",
       "      <td>2</td>\n",
       "      <td>43</td>\n",
       "      <td>20</td>\n",
       "      <td>75</td>\n",
       "      <td>-52</td>\n",
       "      <td>Province</td>\n",
       "      <td>NaN</td>\n",
       "      <td>DKI Jakarta</td>\n",
       "      <td>Indonesia</td>\n",
       "      <td>Asia</td>\n",
       "      <td>Jawa</td>\n",
       "      <td>UTC+07:00</td>\n",
       "      <td>Daerah Khusus Ibu Kota</td>\n",
       "      <td>1</td>\n",
       "      <td>5.0</td>\n",
       "      <td>44</td>\n",
       "      <td>267.0</td>\n",
       "      <td>NaN</td>\n",
       "      <td>664</td>\n",
       "      <td>10846145</td>\n",
       "      <td>16334.31</td>\n",
       "      <td>106.836118</td>\n",
       "      <td>-6.204699</td>\n",
       "      <td>0.18</td>\n",
       "      <td>3.96</td>\n",
       "      <td>0.0</td>\n",
       "      <td>1.84</td>\n",
       "      <td>0.18</td>\n",
       "      <td>46.51%</td>\n",
       "      <td>174.42%</td>\n",
       "      <td>1.0</td>\n",
       "      <td>1.0</td>\n",
       "    </tr>\n",
       "  </tbody>\n",
       "</table>\n",
       "</div>"
      ],
      "text/plain": [
       "        Date Location ISO Code     Location  New Cases  New Deaths  \\\n",
       "0 2020-03-01             ID-JK  DKI Jakarta          2           0   \n",
       "1 2020-03-02             ID-JK  DKI Jakarta          2           0   \n",
       "2 2020-03-02               IDN    Indonesia          2           0   \n",
       "3 2020-03-02             ID-RI         Riau          1           0   \n",
       "4 2020-03-03             ID-JK  DKI Jakarta          2           0   \n",
       "\n",
       "   New Recovered  New Active Cases  Total Cases  Total Deaths  \\\n",
       "0              0                 2           39            20   \n",
       "1              0                 2           41            20   \n",
       "2              0                 2            2             0   \n",
       "3              0                 1            1             0   \n",
       "4              0                 2           43            20   \n",
       "\n",
       "   Total Recovered  Total Active Cases Location Level  City or Regency  \\\n",
       "0               75                 -56       Province              NaN   \n",
       "1               75                 -54       Province              NaN   \n",
       "2                0                   2        Country              NaN   \n",
       "3                1                   0       Province              NaN   \n",
       "4               75                 -52       Province              NaN   \n",
       "\n",
       "      Province    Country Continent    Island  Time Zone  \\\n",
       "0  DKI Jakarta  Indonesia      Asia      Jawa  UTC+07:00   \n",
       "1  DKI Jakarta  Indonesia      Asia      Jawa  UTC+07:00   \n",
       "2          NaN  Indonesia      Asia       NaN        NaN   \n",
       "3         Riau  Indonesia      Asia  Sumatera  UTC+07:00   \n",
       "4  DKI Jakarta  Indonesia      Asia      Jawa  UTC+07:00   \n",
       "\n",
       "           Special Status  Total Regencies  Total Cities  Total Districts  \\\n",
       "0  Daerah Khusus Ibu Kota                1           5.0               44   \n",
       "1  Daerah Khusus Ibu Kota                1           5.0               44   \n",
       "2                     NaN              416          98.0             7230   \n",
       "3                     NaN               10           2.0              169   \n",
       "4  Daerah Khusus Ibu Kota                1           5.0               44   \n",
       "\n",
       "   Total Urban Villages  Total Rural Villages  Area (km2)  Population  \\\n",
       "0                 267.0                   NaN         664    10846145   \n",
       "1                 267.0                   NaN         664    10846145   \n",
       "2                8488.0               74953.0     1916907   265185520   \n",
       "3                 268.0                1591.0       87024     6074100   \n",
       "4                 267.0                   NaN         664    10846145   \n",
       "\n",
       "   Population Density   Longitude  Latitude  New Cases per Million  \\\n",
       "0            16334.31  106.836118 -6.204699                   0.18   \n",
       "1            16334.31  106.836118 -6.204699                   0.18   \n",
       "2              138.34  113.921327 -0.789275                   0.01   \n",
       "3               69.80  101.805109  0.511648                   0.16   \n",
       "4            16334.31  106.836118 -6.204699                   0.18   \n",
       "\n",
       "   Total Cases per Million  New Deaths per Million  Total Deaths per Million  \\\n",
       "0                     3.60                     0.0                      1.84   \n",
       "1                     3.78                     0.0                      1.84   \n",
       "2                     0.01                     0.0                      0.00   \n",
       "3                     0.16                     0.0                      0.00   \n",
       "4                     3.96                     0.0                      1.84   \n",
       "\n",
       "   Total Deaths per 100rb Case Fatality Rate Case Recovered Rate  \\\n",
       "0                    0.18             51.28%             192.31%   \n",
       "1                    0.18             48.78%             182.93%   \n",
       "2                    0.00              0.00%               0.00%   \n",
       "3                    0.00              0.00%             100.00%   \n",
       "4                    0.18             46.51%             174.42%   \n",
       "\n",
       "   Growth Factor of New Cases  Growth Factor of New Deaths  \n",
       "0                         NaN                          NaN  \n",
       "1                         1.0                          1.0  \n",
       "2                         NaN                          NaN  \n",
       "3                         NaN                          NaN  \n",
       "4                         1.0                          1.0  "
      ]
     },
     "execution_count": 4,
     "metadata": {},
     "output_type": "execute_result"
    }
   ],
   "source": [
    "df = pd.read_csv('covid_19_indonesia_time_series_all.csv', parse_dates=['Date'])\n",
    "df.head()"
   ]
  },
  {
   "cell_type": "code",
   "execution_count": 5,
   "metadata": {},
   "outputs": [
    {
     "name": "stdout",
     "output_type": "stream",
     "text": [
      "<class 'pandas.core.frame.DataFrame'>\n",
      "RangeIndex: 31822 entries, 0 to 31821\n",
      "Data columns (total 38 columns):\n",
      " #   Column                       Non-Null Count  Dtype         \n",
      "---  ------                       --------------  -----         \n",
      " 0   Date                         31822 non-null  datetime64[ns]\n",
      " 1   Location ISO Code            31822 non-null  object        \n",
      " 2   Location                     31822 non-null  object        \n",
      " 3   New Cases                    31822 non-null  int64         \n",
      " 4   New Deaths                   31822 non-null  int64         \n",
      " 5   New Recovered                31822 non-null  int64         \n",
      " 6   New Active Cases             31822 non-null  int64         \n",
      " 7   Total Cases                  31822 non-null  int64         \n",
      " 8   Total Deaths                 31822 non-null  int64         \n",
      " 9   Total Recovered              31822 non-null  int64         \n",
      " 10  Total Active Cases           31822 non-null  int64         \n",
      " 11  Location Level               31822 non-null  object        \n",
      " 12  City or Regency              0 non-null      float64       \n",
      " 13  Province                     30893 non-null  object        \n",
      " 14  Country                      31822 non-null  object        \n",
      " 15  Continent                    31822 non-null  object        \n",
      " 16  Island                       30893 non-null  object        \n",
      " 17  Time Zone                    30893 non-null  object        \n",
      " 18  Special Status               4558 non-null   object        \n",
      " 19  Total Regencies              31822 non-null  int64         \n",
      " 20  Total Cities                 30921 non-null  float64       \n",
      " 21  Total Districts              31822 non-null  int64         \n",
      " 22  Total Urban Villages         30918 non-null  float64       \n",
      " 23  Total Rural Villages         30893 non-null  float64       \n",
      " 24  Area (km2)                   31822 non-null  int64         \n",
      " 25  Population                   31822 non-null  int64         \n",
      " 26  Population Density           31822 non-null  float64       \n",
      " 27  Longitude                    31822 non-null  float64       \n",
      " 28  Latitude                     31822 non-null  float64       \n",
      " 29  New Cases per Million        31822 non-null  float64       \n",
      " 30  Total Cases per Million      31822 non-null  float64       \n",
      " 31  New Deaths per Million       31822 non-null  float64       \n",
      " 32  Total Deaths per Million     31822 non-null  float64       \n",
      " 33  Total Deaths per 100rb       31822 non-null  float64       \n",
      " 34  Case Fatality Rate           31822 non-null  object        \n",
      " 35  Case Recovered Rate          31822 non-null  object        \n",
      " 36  Growth Factor of New Cases   29883 non-null  float64       \n",
      " 37  Growth Factor of New Deaths  28375 non-null  float64       \n",
      "dtypes: datetime64[ns](1), float64(14), int64(12), object(11)\n",
      "memory usage: 9.2+ MB\n"
     ]
    }
   ],
   "source": [
    "df.info()"
   ]
  },
  {
   "cell_type": "markdown",
   "metadata": {},
   "source": [
    "## Data Preprocessing"
   ]
  },
  {
   "cell_type": "code",
   "execution_count": 6,
   "metadata": {},
   "outputs": [],
   "source": [
    "# Change the string format of column names to make queries easier\n",
    "df.columns = (\n",
    "    df.columns.str.lower()\n",
    "    .str.replace(' ', '_')\n",
    "    .str.replace('(', '')\n",
    "    .str.replace(')', '')\n",
    ")"
   ]
  },
  {
   "cell_type": "code",
   "execution_count": 7,
   "metadata": {},
   "outputs": [
    {
     "data": {
      "text/html": [
       "<div>\n",
       "<style scoped>\n",
       "    .dataframe tbody tr th:only-of-type {\n",
       "        vertical-align: middle;\n",
       "    }\n",
       "\n",
       "    .dataframe tbody tr th {\n",
       "        vertical-align: top;\n",
       "    }\n",
       "\n",
       "    .dataframe thead th {\n",
       "        text-align: right;\n",
       "    }\n",
       "</style>\n",
       "<table border=\"1\" class=\"dataframe\">\n",
       "  <thead>\n",
       "    <tr style=\"text-align: right;\">\n",
       "      <th></th>\n",
       "      <th>date</th>\n",
       "      <th>location_iso_code</th>\n",
       "      <th>location</th>\n",
       "      <th>new_cases</th>\n",
       "      <th>new_deaths</th>\n",
       "      <th>new_recovered</th>\n",
       "      <th>new_active_cases</th>\n",
       "      <th>total_cases</th>\n",
       "      <th>total_deaths</th>\n",
       "      <th>total_recovered</th>\n",
       "      <th>total_active_cases</th>\n",
       "      <th>location_level</th>\n",
       "      <th>city_or_regency</th>\n",
       "      <th>province</th>\n",
       "      <th>country</th>\n",
       "      <th>continent</th>\n",
       "      <th>island</th>\n",
       "      <th>time_zone</th>\n",
       "      <th>special_status</th>\n",
       "      <th>total_regencies</th>\n",
       "      <th>total_cities</th>\n",
       "      <th>total_districts</th>\n",
       "      <th>total_urban_villages</th>\n",
       "      <th>total_rural_villages</th>\n",
       "      <th>area_km2</th>\n",
       "      <th>population</th>\n",
       "      <th>population_density</th>\n",
       "      <th>longitude</th>\n",
       "      <th>latitude</th>\n",
       "      <th>new_cases_per_million</th>\n",
       "      <th>total_cases_per_million</th>\n",
       "      <th>new_deaths_per_million</th>\n",
       "      <th>total_deaths_per_million</th>\n",
       "      <th>total_deaths_per_100rb</th>\n",
       "      <th>case_fatality_rate</th>\n",
       "      <th>case_recovered_rate</th>\n",
       "      <th>growth_factor_of_new_cases</th>\n",
       "      <th>growth_factor_of_new_deaths</th>\n",
       "    </tr>\n",
       "  </thead>\n",
       "  <tbody>\n",
       "    <tr>\n",
       "      <th>31817</th>\n",
       "      <td>2022-09-15</td>\n",
       "      <td>ID-SA</td>\n",
       "      <td>Sulawesi Utara</td>\n",
       "      <td>37</td>\n",
       "      <td>0</td>\n",
       "      <td>0</td>\n",
       "      <td>37</td>\n",
       "      <td>52770</td>\n",
       "      <td>1213</td>\n",
       "      <td>50997</td>\n",
       "      <td>560</td>\n",
       "      <td>Province</td>\n",
       "      <td>NaN</td>\n",
       "      <td>Sulawesi Utara</td>\n",
       "      <td>Indonesia</td>\n",
       "      <td>Asia</td>\n",
       "      <td>Sulawesi</td>\n",
       "      <td>UTC+08:00</td>\n",
       "      <td>NaN</td>\n",
       "      <td>11</td>\n",
       "      <td>4.0</td>\n",
       "      <td>171</td>\n",
       "      <td>332.0</td>\n",
       "      <td>1507.0</td>\n",
       "      <td>13892</td>\n",
       "      <td>2641884</td>\n",
       "      <td>190.17</td>\n",
       "      <td>124.521240</td>\n",
       "      <td>1.259638</td>\n",
       "      <td>14.01</td>\n",
       "      <td>19974.38</td>\n",
       "      <td>0.0</td>\n",
       "      <td>459.14</td>\n",
       "      <td>45.91</td>\n",
       "      <td>2.30%</td>\n",
       "      <td>96.64%</td>\n",
       "      <td>2.85</td>\n",
       "      <td>1.00</td>\n",
       "    </tr>\n",
       "    <tr>\n",
       "      <th>31818</th>\n",
       "      <td>2022-09-15</td>\n",
       "      <td>ID-SB</td>\n",
       "      <td>Sumatera Barat</td>\n",
       "      <td>13</td>\n",
       "      <td>0</td>\n",
       "      <td>3</td>\n",
       "      <td>10</td>\n",
       "      <td>104640</td>\n",
       "      <td>2371</td>\n",
       "      <td>102066</td>\n",
       "      <td>203</td>\n",
       "      <td>Province</td>\n",
       "      <td>NaN</td>\n",
       "      <td>Sumatera Barat</td>\n",
       "      <td>Indonesia</td>\n",
       "      <td>Asia</td>\n",
       "      <td>Sumatera</td>\n",
       "      <td>UTC+07:00</td>\n",
       "      <td>NaN</td>\n",
       "      <td>12</td>\n",
       "      <td>7.0</td>\n",
       "      <td>179</td>\n",
       "      <td>230.0</td>\n",
       "      <td>928.0</td>\n",
       "      <td>42013</td>\n",
       "      <td>5519245</td>\n",
       "      <td>131.37</td>\n",
       "      <td>100.465062</td>\n",
       "      <td>-0.850253</td>\n",
       "      <td>2.36</td>\n",
       "      <td>18959.11</td>\n",
       "      <td>0.0</td>\n",
       "      <td>429.59</td>\n",
       "      <td>42.96</td>\n",
       "      <td>2.27%</td>\n",
       "      <td>97.54%</td>\n",
       "      <td>6.50</td>\n",
       "      <td>1.00</td>\n",
       "    </tr>\n",
       "    <tr>\n",
       "      <th>31819</th>\n",
       "      <td>2022-09-15</td>\n",
       "      <td>ID-SS</td>\n",
       "      <td>Sumatera Selatan</td>\n",
       "      <td>16</td>\n",
       "      <td>0</td>\n",
       "      <td>1</td>\n",
       "      <td>15</td>\n",
       "      <td>82198</td>\n",
       "      <td>3376</td>\n",
       "      <td>78510</td>\n",
       "      <td>312</td>\n",
       "      <td>Province</td>\n",
       "      <td>NaN</td>\n",
       "      <td>Sumatera Selatan</td>\n",
       "      <td>Indonesia</td>\n",
       "      <td>Asia</td>\n",
       "      <td>Sumatera</td>\n",
       "      <td>UTC+07:00</td>\n",
       "      <td>NaN</td>\n",
       "      <td>13</td>\n",
       "      <td>4.0</td>\n",
       "      <td>241</td>\n",
       "      <td>387.0</td>\n",
       "      <td>2853.0</td>\n",
       "      <td>91592</td>\n",
       "      <td>8217551</td>\n",
       "      <td>89.72</td>\n",
       "      <td>104.169465</td>\n",
       "      <td>-3.216212</td>\n",
       "      <td>1.95</td>\n",
       "      <td>10002.74</td>\n",
       "      <td>0.0</td>\n",
       "      <td>410.83</td>\n",
       "      <td>41.08</td>\n",
       "      <td>4.11%</td>\n",
       "      <td>95.51%</td>\n",
       "      <td>3.20</td>\n",
       "      <td>1.00</td>\n",
       "    </tr>\n",
       "    <tr>\n",
       "      <th>31820</th>\n",
       "      <td>2022-09-15</td>\n",
       "      <td>ID-SU</td>\n",
       "      <td>Sumatera Utara</td>\n",
       "      <td>50</td>\n",
       "      <td>0</td>\n",
       "      <td>5</td>\n",
       "      <td>45</td>\n",
       "      <td>158866</td>\n",
       "      <td>3288</td>\n",
       "      <td>154924</td>\n",
       "      <td>654</td>\n",
       "      <td>Province</td>\n",
       "      <td>NaN</td>\n",
       "      <td>Sumatera Utara</td>\n",
       "      <td>Indonesia</td>\n",
       "      <td>Asia</td>\n",
       "      <td>Sumatera</td>\n",
       "      <td>UTC+07:00</td>\n",
       "      <td>NaN</td>\n",
       "      <td>25</td>\n",
       "      <td>8.0</td>\n",
       "      <td>450</td>\n",
       "      <td>693.0</td>\n",
       "      <td>5417.0</td>\n",
       "      <td>72981</td>\n",
       "      <td>14874889</td>\n",
       "      <td>203.82</td>\n",
       "      <td>99.051964</td>\n",
       "      <td>2.191894</td>\n",
       "      <td>3.36</td>\n",
       "      <td>10680.15</td>\n",
       "      <td>0.0</td>\n",
       "      <td>221.04</td>\n",
       "      <td>22.10</td>\n",
       "      <td>2.07%</td>\n",
       "      <td>97.52%</td>\n",
       "      <td>1.92</td>\n",
       "      <td>1.00</td>\n",
       "    </tr>\n",
       "    <tr>\n",
       "      <th>31821</th>\n",
       "      <td>2022-09-16</td>\n",
       "      <td>IDN</td>\n",
       "      <td>Indonesia</td>\n",
       "      <td>2358</td>\n",
       "      <td>27</td>\n",
       "      <td>2997</td>\n",
       "      <td>-666</td>\n",
       "      <td>6405044</td>\n",
       "      <td>157876</td>\n",
       "      <td>6218708</td>\n",
       "      <td>28460</td>\n",
       "      <td>Country</td>\n",
       "      <td>NaN</td>\n",
       "      <td>NaN</td>\n",
       "      <td>Indonesia</td>\n",
       "      <td>Asia</td>\n",
       "      <td>NaN</td>\n",
       "      <td>NaN</td>\n",
       "      <td>NaN</td>\n",
       "      <td>416</td>\n",
       "      <td>98.0</td>\n",
       "      <td>7230</td>\n",
       "      <td>8488.0</td>\n",
       "      <td>74953.0</td>\n",
       "      <td>1916907</td>\n",
       "      <td>265185520</td>\n",
       "      <td>138.34</td>\n",
       "      <td>113.921327</td>\n",
       "      <td>-0.789275</td>\n",
       "      <td>8.89</td>\n",
       "      <td>24153.07</td>\n",
       "      <td>0.1</td>\n",
       "      <td>595.34</td>\n",
       "      <td>59.53</td>\n",
       "      <td>2.46%</td>\n",
       "      <td>97.09%</td>\n",
       "      <td>0.89</td>\n",
       "      <td>1.29</td>\n",
       "    </tr>\n",
       "  </tbody>\n",
       "</table>\n",
       "</div>"
      ],
      "text/plain": [
       "            date location_iso_code          location  new_cases  new_deaths  \\\n",
       "31817 2022-09-15             ID-SA    Sulawesi Utara         37           0   \n",
       "31818 2022-09-15             ID-SB    Sumatera Barat         13           0   \n",
       "31819 2022-09-15             ID-SS  Sumatera Selatan         16           0   \n",
       "31820 2022-09-15             ID-SU    Sumatera Utara         50           0   \n",
       "31821 2022-09-16               IDN         Indonesia       2358          27   \n",
       "\n",
       "       new_recovered  new_active_cases  total_cases  total_deaths  \\\n",
       "31817              0                37        52770          1213   \n",
       "31818              3                10       104640          2371   \n",
       "31819              1                15        82198          3376   \n",
       "31820              5                45       158866          3288   \n",
       "31821           2997              -666      6405044        157876   \n",
       "\n",
       "       total_recovered  total_active_cases location_level  city_or_regency  \\\n",
       "31817            50997                 560       Province              NaN   \n",
       "31818           102066                 203       Province              NaN   \n",
       "31819            78510                 312       Province              NaN   \n",
       "31820           154924                 654       Province              NaN   \n",
       "31821          6218708               28460        Country              NaN   \n",
       "\n",
       "               province    country continent    island  time_zone  \\\n",
       "31817    Sulawesi Utara  Indonesia      Asia  Sulawesi  UTC+08:00   \n",
       "31818    Sumatera Barat  Indonesia      Asia  Sumatera  UTC+07:00   \n",
       "31819  Sumatera Selatan  Indonesia      Asia  Sumatera  UTC+07:00   \n",
       "31820    Sumatera Utara  Indonesia      Asia  Sumatera  UTC+07:00   \n",
       "31821               NaN  Indonesia      Asia       NaN        NaN   \n",
       "\n",
       "      special_status  total_regencies  total_cities  total_districts  \\\n",
       "31817            NaN               11           4.0              171   \n",
       "31818            NaN               12           7.0              179   \n",
       "31819            NaN               13           4.0              241   \n",
       "31820            NaN               25           8.0              450   \n",
       "31821            NaN              416          98.0             7230   \n",
       "\n",
       "       total_urban_villages  total_rural_villages  area_km2  population  \\\n",
       "31817                 332.0                1507.0     13892     2641884   \n",
       "31818                 230.0                 928.0     42013     5519245   \n",
       "31819                 387.0                2853.0     91592     8217551   \n",
       "31820                 693.0                5417.0     72981    14874889   \n",
       "31821                8488.0               74953.0   1916907   265185520   \n",
       "\n",
       "       population_density   longitude  latitude  new_cases_per_million  \\\n",
       "31817              190.17  124.521240  1.259638                  14.01   \n",
       "31818              131.37  100.465062 -0.850253                   2.36   \n",
       "31819               89.72  104.169465 -3.216212                   1.95   \n",
       "31820              203.82   99.051964  2.191894                   3.36   \n",
       "31821              138.34  113.921327 -0.789275                   8.89   \n",
       "\n",
       "       total_cases_per_million  new_deaths_per_million  \\\n",
       "31817                 19974.38                     0.0   \n",
       "31818                 18959.11                     0.0   \n",
       "31819                 10002.74                     0.0   \n",
       "31820                 10680.15                     0.0   \n",
       "31821                 24153.07                     0.1   \n",
       "\n",
       "       total_deaths_per_million  total_deaths_per_100rb case_fatality_rate  \\\n",
       "31817                    459.14                   45.91              2.30%   \n",
       "31818                    429.59                   42.96              2.27%   \n",
       "31819                    410.83                   41.08              4.11%   \n",
       "31820                    221.04                   22.10              2.07%   \n",
       "31821                    595.34                   59.53              2.46%   \n",
       "\n",
       "      case_recovered_rate  growth_factor_of_new_cases  \\\n",
       "31817              96.64%                        2.85   \n",
       "31818              97.54%                        6.50   \n",
       "31819              95.51%                        3.20   \n",
       "31820              97.52%                        1.92   \n",
       "31821              97.09%                        0.89   \n",
       "\n",
       "       growth_factor_of_new_deaths  \n",
       "31817                         1.00  \n",
       "31818                         1.00  \n",
       "31819                         1.00  \n",
       "31820                         1.00  \n",
       "31821                         1.29  "
      ]
     },
     "execution_count": 7,
     "metadata": {},
     "output_type": "execute_result"
    }
   ],
   "source": [
    "df.tail()"
   ]
  },
  {
   "cell_type": "code",
   "execution_count": 8,
   "metadata": {},
   "outputs": [],
   "source": [
    "# drop unused columns\n",
    "df = (\n",
    "    df.drop([\n",
    "        'province',\n",
    "        'country',\n",
    "        'continent',\n",
    "    ], axis= 1)\n",
    ")"
   ]
  },
  {
   "cell_type": "code",
   "execution_count": 9,
   "metadata": {},
   "outputs": [
    {
     "data": {
      "text/plain": [
       "array(['Province', 'Country'], dtype=object)"
      ]
     },
     "execution_count": 9,
     "metadata": {},
     "output_type": "execute_result"
    }
   ],
   "source": [
    "df['location_level'].unique()"
   ]
  },
  {
   "cell_type": "markdown",
   "metadata": {},
   "source": [
    "The dataset includes two distinct levels of location data: **province** and **country**. To ensure clarity and focus in our analysis, we will exclusively utilize the data at the province level. This approach will prevent potential confusion and enhance the precision of our findings."
   ]
  },
  {
   "cell_type": "code",
   "execution_count": 10,
   "metadata": {},
   "outputs": [
    {
     "data": {
      "text/plain": [
       "array(['Province'], dtype=object)"
      ]
     },
     "execution_count": 10,
     "metadata": {},
     "output_type": "execute_result"
    }
   ],
   "source": [
    "df = df[df['location_level']=='Province']\n",
    "df['location_level'].unique()"
   ]
  },
  {
   "cell_type": "markdown",
   "metadata": {},
   "source": [
    "After that we delete the **location_level** column because it is no longer needed."
   ]
  },
  {
   "cell_type": "code",
   "execution_count": 11,
   "metadata": {},
   "outputs": [],
   "source": [
    "df = df.drop('location_level', axis=1)"
   ]
  },
  {
   "cell_type": "code",
   "execution_count": 12,
   "metadata": {},
   "outputs": [
    {
     "data": {
      "text/plain": [
       "date                               0\n",
       "location_iso_code                  0\n",
       "location                           0\n",
       "new_cases                          0\n",
       "new_deaths                         0\n",
       "new_recovered                      0\n",
       "new_active_cases                   0\n",
       "total_cases                        0\n",
       "total_deaths                       0\n",
       "total_recovered                    0\n",
       "total_active_cases                 0\n",
       "city_or_regency                30893\n",
       "island                             0\n",
       "time_zone                          0\n",
       "special_status                 26335\n",
       "total_regencies                    0\n",
       "total_cities                     901\n",
       "total_districts                    0\n",
       "total_urban_villages             904\n",
       "total_rural_villages             929\n",
       "area_km2                           0\n",
       "population                         0\n",
       "population_density                 0\n",
       "longitude                          0\n",
       "latitude                           0\n",
       "new_cases_per_million              0\n",
       "total_cases_per_million            0\n",
       "new_deaths_per_million             0\n",
       "total_deaths_per_million           0\n",
       "total_deaths_per_100rb             0\n",
       "case_fatality_rate                 0\n",
       "case_recovered_rate                0\n",
       "growth_factor_of_new_cases      1935\n",
       "growth_factor_of_new_deaths     3442\n",
       "dtype: int64"
      ]
     },
     "execution_count": 12,
     "metadata": {},
     "output_type": "execute_result"
    }
   ],
   "source": [
    "df.isna().sum()"
   ]
  },
  {
   "cell_type": "markdown",
   "metadata": {},
   "source": [
    "After seeing this information, the columns that have NaN values ​​will not be used for later analysis, so we will drop the columns that have NaN values."
   ]
  },
  {
   "cell_type": "code",
   "execution_count": 13,
   "metadata": {},
   "outputs": [
    {
     "name": "stdout",
     "output_type": "stream",
     "text": [
      "<class 'pandas.core.frame.DataFrame'>\n",
      "RangeIndex: 30893 entries, 0 to 30892\n",
      "Data columns (total 27 columns):\n",
      " #   Column                    Non-Null Count  Dtype         \n",
      "---  ------                    --------------  -----         \n",
      " 0   date                      30893 non-null  datetime64[ns]\n",
      " 1   location_iso_code         30893 non-null  object        \n",
      " 2   location                  30893 non-null  object        \n",
      " 3   new_cases                 30893 non-null  int64         \n",
      " 4   new_deaths                30893 non-null  int64         \n",
      " 5   new_recovered             30893 non-null  int64         \n",
      " 6   new_active_cases          30893 non-null  int64         \n",
      " 7   total_cases               30893 non-null  int64         \n",
      " 8   total_deaths              30893 non-null  int64         \n",
      " 9   total_recovered           30893 non-null  int64         \n",
      " 10  total_active_cases        30893 non-null  int64         \n",
      " 11  island                    30893 non-null  object        \n",
      " 12  time_zone                 30893 non-null  object        \n",
      " 13  total_regencies           30893 non-null  int64         \n",
      " 14  total_districts           30893 non-null  int64         \n",
      " 15  area_km2                  30893 non-null  int64         \n",
      " 16  population                30893 non-null  int64         \n",
      " 17  population_density        30893 non-null  float64       \n",
      " 18  longitude                 30893 non-null  float64       \n",
      " 19  latitude                  30893 non-null  float64       \n",
      " 20  new_cases_per_million     30893 non-null  float64       \n",
      " 21  total_cases_per_million   30893 non-null  float64       \n",
      " 22  new_deaths_per_million    30893 non-null  float64       \n",
      " 23  total_deaths_per_million  30893 non-null  float64       \n",
      " 24  total_deaths_per_100rb    30893 non-null  float64       \n",
      " 25  case_fatality_rate        30893 non-null  object        \n",
      " 26  case_recovered_rate       30893 non-null  object        \n",
      "dtypes: datetime64[ns](1), float64(8), int64(12), object(6)\n",
      "memory usage: 6.4+ MB\n"
     ]
    }
   ],
   "source": [
    "df = df.dropna(axis=1).reset_index(drop=True)\n",
    "df.info()"
   ]
  },
  {
   "cell_type": "markdown",
   "metadata": {},
   "source": [
    "Check duplicate data"
   ]
  },
  {
   "cell_type": "code",
   "execution_count": 14,
   "metadata": {},
   "outputs": [
    {
     "data": {
      "text/plain": [
       "0"
      ]
     },
     "execution_count": 14,
     "metadata": {},
     "output_type": "execute_result"
    }
   ],
   "source": [
    "df.duplicated().sum()"
   ]
  },
  {
   "cell_type": "code",
   "execution_count": 15,
   "metadata": {},
   "outputs": [
    {
     "data": {
      "text/html": [
       "<div>\n",
       "<style scoped>\n",
       "    .dataframe tbody tr th:only-of-type {\n",
       "        vertical-align: middle;\n",
       "    }\n",
       "\n",
       "    .dataframe tbody tr th {\n",
       "        vertical-align: top;\n",
       "    }\n",
       "\n",
       "    .dataframe thead th {\n",
       "        text-align: right;\n",
       "    }\n",
       "</style>\n",
       "<table border=\"1\" class=\"dataframe\">\n",
       "  <thead>\n",
       "    <tr style=\"text-align: right;\">\n",
       "      <th></th>\n",
       "      <th>date</th>\n",
       "      <th>location_iso_code</th>\n",
       "      <th>location</th>\n",
       "      <th>new_cases</th>\n",
       "      <th>new_deaths</th>\n",
       "      <th>new_recovered</th>\n",
       "      <th>new_active_cases</th>\n",
       "      <th>total_cases</th>\n",
       "      <th>total_deaths</th>\n",
       "      <th>total_recovered</th>\n",
       "      <th>total_active_cases</th>\n",
       "      <th>island</th>\n",
       "      <th>time_zone</th>\n",
       "      <th>total_regencies</th>\n",
       "      <th>total_districts</th>\n",
       "      <th>area_km2</th>\n",
       "      <th>population</th>\n",
       "      <th>population_density</th>\n",
       "      <th>longitude</th>\n",
       "      <th>latitude</th>\n",
       "      <th>new_cases_per_million</th>\n",
       "      <th>total_cases_per_million</th>\n",
       "      <th>new_deaths_per_million</th>\n",
       "      <th>total_deaths_per_million</th>\n",
       "      <th>total_deaths_per_100rb</th>\n",
       "      <th>case_fatality_rate</th>\n",
       "      <th>case_recovered_rate</th>\n",
       "    </tr>\n",
       "  </thead>\n",
       "  <tbody>\n",
       "    <tr>\n",
       "      <th>0</th>\n",
       "      <td>2020-03-01</td>\n",
       "      <td>ID-JK</td>\n",
       "      <td>DKI Jakarta</td>\n",
       "      <td>2</td>\n",
       "      <td>0</td>\n",
       "      <td>0</td>\n",
       "      <td>2</td>\n",
       "      <td>39</td>\n",
       "      <td>20</td>\n",
       "      <td>75</td>\n",
       "      <td>-56</td>\n",
       "      <td>Jawa</td>\n",
       "      <td>UTC+07:00</td>\n",
       "      <td>1</td>\n",
       "      <td>44</td>\n",
       "      <td>664</td>\n",
       "      <td>10846145</td>\n",
       "      <td>16334.31</td>\n",
       "      <td>106.836118</td>\n",
       "      <td>-6.204699</td>\n",
       "      <td>0.18</td>\n",
       "      <td>3.60</td>\n",
       "      <td>0.00</td>\n",
       "      <td>1.84</td>\n",
       "      <td>0.18</td>\n",
       "      <td>51.28%</td>\n",
       "      <td>192.31%</td>\n",
       "    </tr>\n",
       "    <tr>\n",
       "      <th>1</th>\n",
       "      <td>2020-03-02</td>\n",
       "      <td>ID-JK</td>\n",
       "      <td>DKI Jakarta</td>\n",
       "      <td>2</td>\n",
       "      <td>0</td>\n",
       "      <td>0</td>\n",
       "      <td>2</td>\n",
       "      <td>41</td>\n",
       "      <td>20</td>\n",
       "      <td>75</td>\n",
       "      <td>-54</td>\n",
       "      <td>Jawa</td>\n",
       "      <td>UTC+07:00</td>\n",
       "      <td>1</td>\n",
       "      <td>44</td>\n",
       "      <td>664</td>\n",
       "      <td>10846145</td>\n",
       "      <td>16334.31</td>\n",
       "      <td>106.836118</td>\n",
       "      <td>-6.204699</td>\n",
       "      <td>0.18</td>\n",
       "      <td>3.78</td>\n",
       "      <td>0.00</td>\n",
       "      <td>1.84</td>\n",
       "      <td>0.18</td>\n",
       "      <td>48.78%</td>\n",
       "      <td>182.93%</td>\n",
       "    </tr>\n",
       "    <tr>\n",
       "      <th>2</th>\n",
       "      <td>2020-03-02</td>\n",
       "      <td>ID-RI</td>\n",
       "      <td>Riau</td>\n",
       "      <td>1</td>\n",
       "      <td>0</td>\n",
       "      <td>0</td>\n",
       "      <td>1</td>\n",
       "      <td>1</td>\n",
       "      <td>0</td>\n",
       "      <td>1</td>\n",
       "      <td>0</td>\n",
       "      <td>Sumatera</td>\n",
       "      <td>UTC+07:00</td>\n",
       "      <td>10</td>\n",
       "      <td>169</td>\n",
       "      <td>87024</td>\n",
       "      <td>6074100</td>\n",
       "      <td>69.80</td>\n",
       "      <td>101.805109</td>\n",
       "      <td>0.511648</td>\n",
       "      <td>0.16</td>\n",
       "      <td>0.16</td>\n",
       "      <td>0.00</td>\n",
       "      <td>0.00</td>\n",
       "      <td>0.00</td>\n",
       "      <td>0.00%</td>\n",
       "      <td>100.00%</td>\n",
       "    </tr>\n",
       "    <tr>\n",
       "      <th>3</th>\n",
       "      <td>2020-03-03</td>\n",
       "      <td>ID-JK</td>\n",
       "      <td>DKI Jakarta</td>\n",
       "      <td>2</td>\n",
       "      <td>0</td>\n",
       "      <td>0</td>\n",
       "      <td>2</td>\n",
       "      <td>43</td>\n",
       "      <td>20</td>\n",
       "      <td>75</td>\n",
       "      <td>-52</td>\n",
       "      <td>Jawa</td>\n",
       "      <td>UTC+07:00</td>\n",
       "      <td>1</td>\n",
       "      <td>44</td>\n",
       "      <td>664</td>\n",
       "      <td>10846145</td>\n",
       "      <td>16334.31</td>\n",
       "      <td>106.836118</td>\n",
       "      <td>-6.204699</td>\n",
       "      <td>0.18</td>\n",
       "      <td>3.96</td>\n",
       "      <td>0.00</td>\n",
       "      <td>1.84</td>\n",
       "      <td>0.18</td>\n",
       "      <td>46.51%</td>\n",
       "      <td>174.42%</td>\n",
       "    </tr>\n",
       "    <tr>\n",
       "      <th>4</th>\n",
       "      <td>2020-03-03</td>\n",
       "      <td>ID-JB</td>\n",
       "      <td>Jawa Barat</td>\n",
       "      <td>1</td>\n",
       "      <td>1</td>\n",
       "      <td>0</td>\n",
       "      <td>0</td>\n",
       "      <td>1</td>\n",
       "      <td>1</td>\n",
       "      <td>60</td>\n",
       "      <td>-60</td>\n",
       "      <td>Jawa</td>\n",
       "      <td>UTC+07:00</td>\n",
       "      <td>18</td>\n",
       "      <td>627</td>\n",
       "      <td>35378</td>\n",
       "      <td>45161325</td>\n",
       "      <td>1276.55</td>\n",
       "      <td>107.603708</td>\n",
       "      <td>-6.920432</td>\n",
       "      <td>0.02</td>\n",
       "      <td>0.02</td>\n",
       "      <td>0.02</td>\n",
       "      <td>0.02</td>\n",
       "      <td>0.00</td>\n",
       "      <td>100.00%</td>\n",
       "      <td>6000.00%</td>\n",
       "    </tr>\n",
       "  </tbody>\n",
       "</table>\n",
       "</div>"
      ],
      "text/plain": [
       "        date location_iso_code     location  new_cases  new_deaths  \\\n",
       "0 2020-03-01             ID-JK  DKI Jakarta          2           0   \n",
       "1 2020-03-02             ID-JK  DKI Jakarta          2           0   \n",
       "2 2020-03-02             ID-RI         Riau          1           0   \n",
       "3 2020-03-03             ID-JK  DKI Jakarta          2           0   \n",
       "4 2020-03-03             ID-JB   Jawa Barat          1           1   \n",
       "\n",
       "   new_recovered  new_active_cases  total_cases  total_deaths  \\\n",
       "0              0                 2           39            20   \n",
       "1              0                 2           41            20   \n",
       "2              0                 1            1             0   \n",
       "3              0                 2           43            20   \n",
       "4              0                 0            1             1   \n",
       "\n",
       "   total_recovered  total_active_cases    island  time_zone  total_regencies  \\\n",
       "0               75                 -56      Jawa  UTC+07:00                1   \n",
       "1               75                 -54      Jawa  UTC+07:00                1   \n",
       "2                1                   0  Sumatera  UTC+07:00               10   \n",
       "3               75                 -52      Jawa  UTC+07:00                1   \n",
       "4               60                 -60      Jawa  UTC+07:00               18   \n",
       "\n",
       "   total_districts  area_km2  population  population_density   longitude  \\\n",
       "0               44       664    10846145            16334.31  106.836118   \n",
       "1               44       664    10846145            16334.31  106.836118   \n",
       "2              169     87024     6074100               69.80  101.805109   \n",
       "3               44       664    10846145            16334.31  106.836118   \n",
       "4              627     35378    45161325             1276.55  107.603708   \n",
       "\n",
       "   latitude  new_cases_per_million  total_cases_per_million  \\\n",
       "0 -6.204699                   0.18                     3.60   \n",
       "1 -6.204699                   0.18                     3.78   \n",
       "2  0.511648                   0.16                     0.16   \n",
       "3 -6.204699                   0.18                     3.96   \n",
       "4 -6.920432                   0.02                     0.02   \n",
       "\n",
       "   new_deaths_per_million  total_deaths_per_million  total_deaths_per_100rb  \\\n",
       "0                    0.00                      1.84                    0.18   \n",
       "1                    0.00                      1.84                    0.18   \n",
       "2                    0.00                      0.00                    0.00   \n",
       "3                    0.00                      1.84                    0.18   \n",
       "4                    0.02                      0.02                    0.00   \n",
       "\n",
       "  case_fatality_rate case_recovered_rate  \n",
       "0             51.28%             192.31%  \n",
       "1             48.78%             182.93%  \n",
       "2              0.00%             100.00%  \n",
       "3             46.51%             174.42%  \n",
       "4            100.00%            6000.00%  "
      ]
     },
     "execution_count": 15,
     "metadata": {},
     "output_type": "execute_result"
    }
   ],
   "source": [
    "df.head()"
   ]
  },
  {
   "cell_type": "markdown",
   "metadata": {},
   "source": [
    "### Data Time Range"
   ]
  },
  {
   "cell_type": "code",
   "execution_count": 17,
   "metadata": {},
   "outputs": [
    {
     "data": {
      "text/html": [
       "<div>\n",
       "<style scoped>\n",
       "    .dataframe tbody tr th:only-of-type {\n",
       "        vertical-align: middle;\n",
       "    }\n",
       "\n",
       "    .dataframe tbody tr th {\n",
       "        vertical-align: top;\n",
       "    }\n",
       "\n",
       "    .dataframe thead th {\n",
       "        text-align: right;\n",
       "    }\n",
       "</style>\n",
       "<table border=\"1\" class=\"dataframe\">\n",
       "  <thead>\n",
       "    <tr style=\"text-align: right;\">\n",
       "      <th></th>\n",
       "      <th>earliest_data</th>\n",
       "      <th>latest_data</th>\n",
       "    </tr>\n",
       "  </thead>\n",
       "  <tbody>\n",
       "    <tr>\n",
       "      <th>0</th>\n",
       "      <td>2020-03-01</td>\n",
       "      <td>2022-09-15</td>\n",
       "    </tr>\n",
       "  </tbody>\n",
       "</table>\n",
       "</div>"
      ],
      "text/plain": [
       "  earliest_data latest_data\n",
       "0    2020-03-01  2022-09-15"
      ]
     },
     "execution_count": 17,
     "metadata": {},
     "output_type": "execute_result"
    }
   ],
   "source": [
    "sql(\n",
    "    \"\"\"\n",
    "    SELECT \n",
    "        MIN(date) AS earliest_data,\n",
    "        MAX(date) AS latest_data\n",
    "    FROM df\n",
    "    \"\"\"\n",
    ")"
   ]
  },
  {
   "cell_type": "markdown",
   "metadata": {},
   "source": [
    "The dataset contains COVID-19 data spanning from March 2020 to September 2022."
   ]
  },
  {
   "cell_type": "markdown",
   "metadata": {},
   "source": [
    "## Trend of New Cases per Month"
   ]
  },
  {
   "cell_type": "code",
   "execution_count": 28,
   "metadata": {},
   "outputs": [],
   "source": [
    "# create data frame of new cases per month\n",
    "new_cases_per_month_num = sql(\n",
    "    \"\"\"\n",
    "    WITH monthly_cases AS (\n",
    "        SELECT \n",
    "            DATE_TRUNC('month', date) AS month,\n",
    "            SUM(new_cases) AS total_new_cases\n",
    "        FROM df\n",
    "        GROUP BY month\n",
    "        ORDER BY month\n",
    "    )\n",
    "    SELECT \n",
    "        month,\n",
    "        total_new_cases\n",
    "    FROM monthly_cases\n",
    "    ORDER BY month\n",
    "    \"\"\"\n",
    ")\n",
    "\n",
    "new_cases_per_month_name = sql(\n",
    "    \"\"\"\n",
    "    SELECT \n",
    "        STRFTIME(month, '%b %Y') AS month_year,\n",
    "        total_new_cases,\n",
    "    FROM new_cases_per_month_num\n",
    "    \"\"\"\n",
    ")"
   ]
  },
  {
   "cell_type": "code",
   "execution_count": 29,
   "metadata": {},
   "outputs": [
    {
     "data": {
      "image/png": "[encoded data removed]",
      "text/plain": [
       "<Figure size 1200x600 with 1 Axes>"
      ]
     },
     "metadata": {},
     "output_type": "display_data"
    }
   ],
   "source": [
    "# chart of new cases per month\n",
    "fig, ax = plt.subplots(figsize= (12, 6))\n",
    "\n",
    "ax.plot(new_cases_per_month_name['month_year'], new_cases_per_month_name['total_new_cases'], \n",
    "        label= 'Total New Cases',\n",
    "        color= 'blue')\n",
    "\n",
    "plt.title('COVID New Cases per Month')\n",
    "plt.xticks(rotation= 65)\n",
    "ax.ticklabel_format(axis= 'y', style= 'plain', useOffset= False)\n",
    "ax.yaxis.set_major_locator(plt.MultipleLocator(100000))\n",
    "\n",
    "plt.annotate('',  \n",
    "             xy= (15, 1200000), \n",
    "             xytext= (13.9, 300000),  \n",
    "             xycoords= 'data',  \n",
    "             arrowprops= dict(arrowstyle= '->', connectionstyle= 'arc3', color= 'orange', lw= 2))\n",
    "\n",
    "plt.annotate('Eid al-Fitr Celebration (May 2021)',\n",
    "             xy= (13.3, 400000),  \n",
    "             rotation= 84.4,  \n",
    "             va= 'bottom', \n",
    "             ha= 'left',\n",
    "             fontsize= 11)\n",
    "\n",
    "plt.annotate('',  \n",
    "             xy= (22, 1170000), \n",
    "             xytext= (21, 200000),  \n",
    "             xycoords= 'data',  \n",
    "             arrowprops= dict(arrowstyle= '->', connectionstyle= 'arc3', color= 'orange', lw= 2))\n",
    "\n",
    "plt.annotate('Omicron Variant Wave (Jan-Feb 2022)',\n",
    "             xy= (20.4, 250000),  \n",
    "             rotation= 85.3,  \n",
    "             va= 'bottom', \n",
    "             ha= 'left',\n",
    "             fontsize= 11)\n",
    "\n",
    "plt.show()"
   ]
  },
  {
   "cell_type": "markdown",
   "metadata": {},
   "source": [
    "The chart presents the trend of COVID-19 cases in Indonesia from May 2020 through September 2022. We observe two prominent spikes in cases, occurring in May-July 2021 and January-February 2022, which we will explore further.\n",
    "\n",
    "**First Spike: May-July 2021**\n",
    "\n",
    "In mid 2021, there was a significant increase in new cases. Although direct supporting data for this analysis is lacking, this spike coincides with the period following the Eid al-Fitr celebration, one of the largest holidays in Indonesia. Traditionally, this celebration is accompanied by mass travel, known as 'mudik', potentially leading to increased social interactions and mobility.\n",
    "\n",
    "Without definitive data to link the spike solely to the Eid celebration—such as mobility reports or social interaction levels—it's reasonable to hypothesize that major events like Eid al-Fitr could potentially influence the spread of the virus, based on general understandings of infectious disease transmission.\n",
    "\n",
    "**Second Spike: January-February 2022**\n",
    "\n",
    "A significant increase occurred in early 2022, coinciding with the emergence of the highly transmissible Omicron variant globally. Again, while specific data to prove direct causality in Indonesia is absent, global patterns suggest that the spread of the Omicron variant contributed to increased cases in many countries, likely including Indonesia\n",
    "\n",
    "**Discussion**\n",
    "\n",
    "When analyzing this data, it's important to remember that seeing a trend doesn't necessarily mean one event causes another. Without more data, we should avoid making firm conclusions. Nonetheless, these observations point out the need for more detailed analysis to better understand the factors affecting COVID-19 case trends.\n",
    "\n",
    "**Conclusion**\n",
    "\n",
    "This chart provides valuable insights into the dynamics of COVID-19 spread in Indonesia, illustrating the importance of public health policies and effective monitoring. Furthermore, it underscores the necessity for preparedness in facing potential future surges, which could be triggered by large social events or the emergence of new variants."
   ]
  },
  {
   "cell_type": "code",
   "execution_count": 30,
   "metadata": {},
   "outputs": [],
   "source": [
    "compare_trend_num = sql(\n",
    "    \"\"\"\n",
    "    SELECT \n",
    "        DATE_TRUNC('month', date) AS month,\n",
    "        SUM(new_cases) AS total_new_cases,\n",
    "        SUM(new_deaths) AS total_new_deaths,\n",
    "        SUM(new_recovered) AS total_new_recovered\n",
    "    FROM df\n",
    "    GROUP BY month\n",
    "    ORDER BY month\n",
    "    \"\"\"\n",
    ")\n",
    "\n",
    "compare_trend_name = sql(\n",
    "    \"\"\"\n",
    "    SELECT \n",
    "        STRFTIME(month, '%b %Y') AS month_year,\n",
    "        total_new_cases,\n",
    "        total_new_deaths,\n",
    "        total_new_recovered\n",
    "    FROM compare_trend_num\n",
    "    \"\"\"\n",
    ")\n"
   ]
  },
  {
   "cell_type": "code",
   "execution_count": 34,
   "metadata": {},
   "outputs": [
    {
     "data": {
      "image/png": "[encoded data removed]",
      "text/plain": [
       "<Figure size 1200x600 with 1 Axes>"
      ]
     },
     "metadata": {},
     "output_type": "display_data"
    }
   ],
   "source": [
    "fig, ax = plt.subplots(figsize= (12, 6))\n",
    "\n",
    "ax.plot(compare_trend_name['month_year'], compare_trend_name['total_new_cases'], label= 'Total New Cases')\n",
    "ax.plot(compare_trend_name['month_year'], compare_trend_name['total_new_deaths'], label= 'Total New Deaths')\n",
    "ax.plot(compare_trend_name['month_year'], compare_trend_name['total_new_recovered'], label= 'Total New Recovered')\n",
    "\n",
    "ax.set_xlabel('')\n",
    "ax.set_ylabel('')\n",
    "ax.set_title('Total New Cases vs New Deaths vs New Recovered per Month')\n",
    "ax.legend()\n",
    "\n",
    "plt.xticks(rotation= 65)\n",
    "ax.ticklabel_format(axis= 'y', style= 'plain', useOffset= False)\n",
    "ax.yaxis.set_major_locator(plt.MultipleLocator(100000))\n",
    "plt.show()"
   ]
  },
  {
   "cell_type": "markdown",
   "metadata": {},
   "source": [
    "**Correlation Between Cases and Recoveries:**\n",
    "\n",
    "The graph shows a strong correlation between the rise and fall of new cases and new recoveries. This suggests that as more people are diagnosed with COVID-19, more people recover, likely due to the concurrent handling of these cases within the healthcare system.\n",
    "\n",
    "**Deaths Relative to Cases:**\n",
    "\n",
    "There is a noticeable increase in deaths that accompanies the rise in new cases during 2021. However, during the surge in 2022, the increase in deaths is less pronounced compared to the increase in cases.\n",
    "This could potentially be attributed to several factors, such as improved treatments or higher vaccination rates."
   ]
  },
  {
   "cell_type": "markdown",
   "metadata": {},
   "source": [
    "## Distribution of COVID-19 Cases in Indonesia by Location"
   ]
  },
  {
   "cell_type": "markdown",
   "metadata": {},
   "source": [
    "***Note: Due to github's limitations in showing interactive charts, the chart cannot be rendered directly by github. Please see the results in the portfolio.***"
   ]
  },
  {
   "cell_type": "code",
   "execution_count": 49,
   "metadata": {},
   "outputs": [
    {
     "data": {
      "text/html": [
       "<div>\n",
       "<style scoped>\n",
       "    .dataframe tbody tr th:only-of-type {\n",
       "        vertical-align: middle;\n",
       "    }\n",
       "\n",
       "    .dataframe tbody tr th {\n",
       "        vertical-align: top;\n",
       "    }\n",
       "\n",
       "    .dataframe thead th {\n",
       "        text-align: right;\n",
       "    }\n",
       "</style>\n",
       "<table border=\"1\" class=\"dataframe\">\n",
       "  <thead>\n",
       "    <tr style=\"text-align: right;\">\n",
       "      <th></th>\n",
       "      <th>island</th>\n",
       "      <th>location</th>\n",
       "      <th>total_new_cases</th>\n",
       "    </tr>\n",
       "  </thead>\n",
       "  <tbody>\n",
       "    <tr>\n",
       "      <th>0</th>\n",
       "      <td>Jawa</td>\n",
       "      <td>Banten</td>\n",
       "      <td>333875.0</td>\n",
       "    </tr>\n",
       "    <tr>\n",
       "      <th>1</th>\n",
       "      <td>Jawa</td>\n",
       "      <td>DKI Jakarta</td>\n",
       "      <td>1412474.0</td>\n",
       "    </tr>\n",
       "    <tr>\n",
       "      <th>2</th>\n",
       "      <td>Jawa</td>\n",
       "      <td>Daerah Istimewa Yogyakarta</td>\n",
       "      <td>224307.0</td>\n",
       "    </tr>\n",
       "    <tr>\n",
       "      <th>3</th>\n",
       "      <td>Jawa</td>\n",
       "      <td>Jawa Barat</td>\n",
       "      <td>1173731.0</td>\n",
       "    </tr>\n",
       "    <tr>\n",
       "      <th>4</th>\n",
       "      <td>Jawa</td>\n",
       "      <td>Jawa Tengah</td>\n",
       "      <td>636409.0</td>\n",
       "    </tr>\n",
       "  </tbody>\n",
       "</table>\n",
       "</div>"
      ],
      "text/plain": [
       "  island                    location  total_new_cases\n",
       "0   Jawa                      Banten         333875.0\n",
       "1   Jawa                 DKI Jakarta        1412474.0\n",
       "2   Jawa  Daerah Istimewa Yogyakarta         224307.0\n",
       "3   Jawa                  Jawa Barat        1173731.0\n",
       "4   Jawa                 Jawa Tengah         636409.0"
      ]
     },
     "execution_count": 49,
     "metadata": {},
     "output_type": "execute_result"
    }
   ],
   "source": [
    "new_cases_by_location = sql(\n",
    "    \"\"\"\n",
    "    SELECT \n",
    "        island,\n",
    "        location,\n",
    "        SUM(new_cases) AS total_new_cases\n",
    "    FROM df\n",
    "    GROUP BY island, location\n",
    "    ORDER BY island, location\n",
    "    \"\"\"\n",
    ")\n",
    "new_cases_by_location.head()"
   ]
  },
  {
   "cell_type": "code",
   "execution_count": 52,
   "metadata": {},
   "outputs": [
    {
     "data": {
      "application/vnd.plotly.v1+json": {
       "config": {
        "plotlyServerURL": "https://plot.ly"
       },
       "data": [
        {
         "branchvalues": "total",
         "domain": {
          "x": [
           0,
           1
          ],
          "y": [
           0,
           1
          ]
         },
         "hovertemplate": "labels=%{label}<br>total_new_cases=%{value}<br>parent=%{parent}<br>id=%{id}<extra></extra>",
         "ids": [
          "Sumatera/Aceh",
          "Nusa Tenggara/Bali",
          "Jawa/Banten",
          "Sumatera/Bengkulu",
          "Jawa/DKI Jakarta",
          "Jawa/Daerah Istimewa Yogyakarta",
          "Sulawesi/Gorontalo",
          "Sumatera/Jambi",
          "Jawa/Jawa Barat",
          "Jawa/Jawa Tengah",
          "Jawa/Jawa Timur",
          "Kalimantan/Kalimantan Barat",
          "Kalimantan/Kalimantan Selatan",
          "Kalimantan/Kalimantan Tengah",
          "Kalimantan/Kalimantan Timur",
          "Kalimantan/Kalimantan Utara",
          "Sumatera/Kepulauan Bangka Belitung",
          "Sumatera/Kepulauan Riau",
          "Sumatera/Lampung",
          "Maluku/Maluku",
          "Maluku/Maluku Utara",
          "Nusa Tenggara/Nusa Tenggara Barat",
          "Nusa Tenggara/Nusa Tenggara Timur",
          "Papua/Papua",
          "Papua/Papua Barat",
          "Sumatera/Riau",
          "Sulawesi/Sulawesi Barat",
          "Sulawesi/Sulawesi Selatan",
          "Sulawesi/Sulawesi Tengah",
          "Sulawesi/Sulawesi Tenggara",
          "Sulawesi/Sulawesi Utara",
          "Sumatera/Sumatera Barat",
          "Sumatera/Sumatera Selatan",
          "Sumatera/Sumatera Utara",
          "Jawa",
          "Kalimantan",
          "Maluku",
          "Nusa Tenggara",
          "Papua",
          "Sulawesi",
          "Sumatera"
         ],
         "labels": [
          "Aceh",
          "Bali",
          "Banten",
          "Bengkulu",
          "DKI Jakarta",
          "Daerah Istimewa Yogyakarta",
          "Gorontalo",
          "Jambi",
          "Jawa Barat",
          "Jawa Tengah",
          "Jawa Timur",
          "Kalimantan Barat",
          "Kalimantan Selatan",
          "Kalimantan Tengah",
          "Kalimantan Timur",
          "Kalimantan Utara",
          "Kepulauan Bangka Belitung",
          "Kepulauan Riau",
          "Lampung",
          "Maluku",
          "Maluku Utara",
          "Nusa Tenggara Barat",
          "Nusa Tenggara Timur",
          "Papua",
          "Papua Barat",
          "Riau",
          "Sulawesi Barat",
          "Sulawesi Selatan",
          "Sulawesi Tengah",
          "Sulawesi Tenggara",
          "Sulawesi Utara",
          "Sumatera Barat",
          "Sumatera Selatan",
          "Sumatera Utara",
          "Jawa",
          "Kalimantan",
          "Maluku",
          "Nusa Tenggara",
          "Papua",
          "Sulawesi",
          "Sumatera"
         ],
         "name": "",
         "parents": [
          "Sumatera",
          "Nusa Tenggara",
          "Jawa",
          "Sumatera",
          "Jawa",
          "Jawa",
          "Sulawesi",
          "Sumatera",
          "Jawa",
          "Jawa",
          "Jawa",
          "Kalimantan",
          "Kalimantan",
          "Kalimantan",
          "Kalimantan",
          "Kalimantan",
          "Sumatera",
          "Sumatera",
          "Sumatera",
          "Maluku",
          "Maluku",
          "Nusa Tenggara",
          "Nusa Tenggara",
          "Papua",
          "Papua",
          "Sumatera",
          "Sulawesi",
          "Sulawesi",
          "Sulawesi",
          "Sulawesi",
          "Sulawesi",
          "Sumatera",
          "Sumatera",
          "Sumatera",
          "",
          "",
          "",
          "",
          "",
          "",
          ""
         ],
         "textinfo": "label+percent parent",
         "type": "sunburst",
         "values": [
          44038,
          166831,
          333875,
          29173,
          1412474,
          224307,
          13951,
          38643,
          1173731,
          636409,
          601534,
          65605,
          87476,
          58217,
          209017,
          45417,
          66144,
          70883,
          75485,
          18736,
          14595,
          36247,
          94415,
          49927,
          32170,
          152648,
          15601,
          144494,
          61099,
          25693,
          52770,
          104640,
          82198,
          158866,
          4382330,
          465732,
          33331,
          297493,
          82097,
          313608,
          822718
         ]
        }
       ],
       "layout": {
        "height": 1000,
        "legend": {
         "tracegroupgap": 0
        },
        "template": {
         "data": {
          "bar": [
           {
            "error_x": {
             "color": "#2a3f5f"
            },
            "error_y": {
             "color": "#2a3f5f"
            },
            "marker": {
             "line": {
              "color": "#E5ECF6",
              "width": 0.5
             },
             "pattern": {
              "fillmode": "overlay",
              "size": 10,
              "solidity": 0.2
             }
            },
            "type": "bar"
           }
          ],
          "barpolar": [
           {
            "marker": {
             "line": {
              "color": "#E5ECF6",
              "width": 0.5
             },
             "pattern": {
              "fillmode": "overlay",
              "size": 10,
              "solidity": 0.2
             }
            },
            "type": "barpolar"
           }
          ],
          "carpet": [
           {
            "aaxis": {
             "endlinecolor": "#2a3f5f",
             "gridcolor": "white",
             "linecolor": "white",
             "minorgridcolor": "white",
             "startlinecolor": "#2a3f5f"
            },
            "baxis": {
             "endlinecolor": "#2a3f5f",
             "gridcolor": "white",
             "linecolor": "white",
             "minorgridcolor": "white",
             "startlinecolor": "#2a3f5f"
            },
            "type": "carpet"
           }
          ],
          "choropleth": [
           {
            "colorbar": {
             "outlinewidth": 0,
             "ticks": ""
            },
            "type": "choropleth"
           }
          ],
          "contour": [
           {
            "colorbar": {
             "outlinewidth": 0,
             "ticks": ""
            },
            "colorscale": [
             [
              0,
              "#0d0887"
             ],
             [
              0.1111111111111111,
              "#46039f"
             ],
             [
              0.2222222222222222,
              "#7201a8"
             ],
             [
              0.3333333333333333,
              "#9c179e"
             ],
             [
              0.4444444444444444,
              "#bd3786"
             ],
             [
              0.5555555555555556,
              "#d8576b"
             ],
             [
              0.6666666666666666,
              "#ed7953"
             ],
             [
              0.7777777777777778,
              "#fb9f3a"
             ],
             [
              0.8888888888888888,
              "#fdca26"
             ],
             [
              1,
              "#f0f921"
             ]
            ],
            "type": "contour"
           }
          ],
          "contourcarpet": [
           {
            "colorbar": {
             "outlinewidth": 0,
             "ticks": ""
            },
            "type": "contourcarpet"
           }
          ],
          "heatmap": [
           {
            "colorbar": {
             "outlinewidth": 0,
             "ticks": ""
            },
            "colorscale": [
             [
              0,
              "#0d0887"
             ],
             [
              0.1111111111111111,
              "#46039f"
             ],
             [
              0.2222222222222222,
              "#7201a8"
             ],
             [
              0.3333333333333333,
              "#9c179e"
             ],
             [
              0.4444444444444444,
              "#bd3786"
             ],
             [
              0.5555555555555556,
              "#d8576b"
             ],
             [
              0.6666666666666666,
              "#ed7953"
             ],
             [
              0.7777777777777778,
              "#fb9f3a"
             ],
             [
              0.8888888888888888,
              "#fdca26"
             ],
             [
              1,
              "#f0f921"
             ]
            ],
            "type": "heatmap"
           }
          ],
          "heatmapgl": [
           {
            "colorbar": {
             "outlinewidth": 0,
             "ticks": ""
            },
            "colorscale": [
             [
              0,
              "#0d0887"
             ],
             [
              0.1111111111111111,
              "#46039f"
             ],
             [
              0.2222222222222222,
              "#7201a8"
             ],
             [
              0.3333333333333333,
              "#9c179e"
             ],
             [
              0.4444444444444444,
              "#bd3786"
             ],
             [
              0.5555555555555556,
              "#d8576b"
             ],
             [
              0.6666666666666666,
              "#ed7953"
             ],
             [
              0.7777777777777778,
              "#fb9f3a"
             ],
             [
              0.8888888888888888,
              "#fdca26"
             ],
             [
              1,
              "#f0f921"
             ]
            ],
            "type": "heatmapgl"
           }
          ],
          "histogram": [
           {
            "marker": {
             "pattern": {
              "fillmode": "overlay",
              "size": 10,
              "solidity": 0.2
             }
            },
            "type": "histogram"
           }
          ],
          "histogram2d": [
           {
            "colorbar": {
             "outlinewidth": 0,
             "ticks": ""
            },
            "colorscale": [
             [
              0,
              "#0d0887"
             ],
             [
              0.1111111111111111,
              "#46039f"
             ],
             [
              0.2222222222222222,
              "#7201a8"
             ],
             [
              0.3333333333333333,
              "#9c179e"
             ],
             [
              0.4444444444444444,
              "#bd3786"
             ],
             [
              0.5555555555555556,
              "#d8576b"
             ],
             [
              0.6666666666666666,
              "#ed7953"
             ],
             [
              0.7777777777777778,
              "#fb9f3a"
             ],
             [
              0.8888888888888888,
              "#fdca26"
             ],
             [
              1,
              "#f0f921"
             ]
            ],
            "type": "histogram2d"
           }
          ],
          "histogram2dcontour": [
           {
            "colorbar": {
             "outlinewidth": 0,
             "ticks": ""
            },
            "colorscale": [
             [
              0,
              "#0d0887"
             ],
             [
              0.1111111111111111,
              "#46039f"
             ],
             [
              0.2222222222222222,
              "#7201a8"
             ],
             [
              0.3333333333333333,
              "#9c179e"
             ],
             [
              0.4444444444444444,
              "#bd3786"
             ],
             [
              0.5555555555555556,
              "#d8576b"
             ],
             [
              0.6666666666666666,
              "#ed7953"
             ],
             [
              0.7777777777777778,
              "#fb9f3a"
             ],
             [
              0.8888888888888888,
              "#fdca26"
             ],
             [
              1,
              "#f0f921"
             ]
            ],
            "type": "histogram2dcontour"
           }
          ],
          "mesh3d": [
           {
            "colorbar": {
             "outlinewidth": 0,
             "ticks": ""
            },
            "type": "mesh3d"
           }
          ],
          "parcoords": [
           {
            "line": {
             "colorbar": {
              "outlinewidth": 0,
              "ticks": ""
             }
            },
            "type": "parcoords"
           }
          ],
          "pie": [
           {
            "automargin": true,
            "type": "pie"
           }
          ],
          "scatter": [
           {
            "fillpattern": {
             "fillmode": "overlay",
             "size": 10,
             "solidity": 0.2
            },
            "type": "scatter"
           }
          ],
          "scatter3d": [
           {
            "line": {
             "colorbar": {
              "outlinewidth": 0,
              "ticks": ""
             }
            },
            "marker": {
             "colorbar": {
              "outlinewidth": 0,
              "ticks": ""
             }
            },
            "type": "scatter3d"
           }
          ],
          "scattercarpet": [
           {
            "marker": {
             "colorbar": {
              "outlinewidth": 0,
              "ticks": ""
             }
            },
            "type": "scattercarpet"
           }
          ],
          "scattergeo": [
           {
            "marker": {
             "colorbar": {
              "outlinewidth": 0,
              "ticks": ""
             }
            },
            "type": "scattergeo"
           }
          ],
          "scattergl": [
           {
            "marker": {
             "colorbar": {
              "outlinewidth": 0,
              "ticks": ""
             }
            },
            "type": "scattergl"
           }
          ],
          "scattermapbox": [
           {
            "marker": {
             "colorbar": {
              "outlinewidth": 0,
              "ticks": ""
             }
            },
            "type": "scattermapbox"
           }
          ],
          "scatterpolar": [
           {
            "marker": {
             "colorbar": {
              "outlinewidth": 0,
              "ticks": ""
             }
            },
            "type": "scatterpolar"
           }
          ],
          "scatterpolargl": [
           {
            "marker": {
             "colorbar": {
              "outlinewidth": 0,
              "ticks": ""
             }
            },
            "type": "scatterpolargl"
           }
          ],
          "scatterternary": [
           {
            "marker": {
             "colorbar": {
              "outlinewidth": 0,
              "ticks": ""
             }
            },
            "type": "scatterternary"
           }
          ],
          "surface": [
           {
            "colorbar": {
             "outlinewidth": 0,
             "ticks": ""
            },
            "colorscale": [
             [
              0,
              "#0d0887"
             ],
             [
              0.1111111111111111,
              "#46039f"
             ],
             [
              0.2222222222222222,
              "#7201a8"
             ],
             [
              0.3333333333333333,
              "#9c179e"
             ],
             [
              0.4444444444444444,
              "#bd3786"
             ],
             [
              0.5555555555555556,
              "#d8576b"
             ],
             [
              0.6666666666666666,
              "#ed7953"
             ],
             [
              0.7777777777777778,
              "#fb9f3a"
             ],
             [
              0.8888888888888888,
              "#fdca26"
             ],
             [
              1,
              "#f0f921"
             ]
            ],
            "type": "surface"
           }
          ],
          "table": [
           {
            "cells": {
             "fill": {
              "color": "#EBF0F8"
             },
             "line": {
              "color": "white"
             }
            },
            "header": {
             "fill": {
              "color": "#C8D4E3"
             },
             "line": {
              "color": "white"
             }
            },
            "type": "table"
           }
          ]
         },
         "layout": {
          "annotationdefaults": {
           "arrowcolor": "#2a3f5f",
           "arrowhead": 0,
           "arrowwidth": 1
          },
          "autotypenumbers": "strict",
          "coloraxis": {
           "colorbar": {
            "outlinewidth": 0,
            "ticks": ""
           }
          },
          "colorscale": {
           "diverging": [
            [
             0,
             "#8e0152"
            ],
            [
             0.1,
             "#c51b7d"
            ],
            [
             0.2,
             "#de77ae"
            ],
            [
             0.3,
             "#f1b6da"
            ],
            [
             0.4,
             "#fde0ef"
            ],
            [
             0.5,
             "#f7f7f7"
            ],
            [
             0.6,
             "#e6f5d0"
            ],
            [
             0.7,
             "#b8e186"
            ],
            [
             0.8,
             "#7fbc41"
            ],
            [
             0.9,
             "#4d9221"
            ],
            [
             1,
             "#276419"
            ]
           ],
           "sequential": [
            [
             0,
             "#0d0887"
            ],
            [
             0.1111111111111111,
             "#46039f"
            ],
            [
             0.2222222222222222,
             "#7201a8"
            ],
            [
             0.3333333333333333,
             "#9c179e"
            ],
            [
             0.4444444444444444,
             "#bd3786"
            ],
            [
             0.5555555555555556,
             "#d8576b"
            ],
            [
             0.6666666666666666,
             "#ed7953"
            ],
            [
             0.7777777777777778,
             "#fb9f3a"
            ],
            [
             0.8888888888888888,
             "#fdca26"
            ],
            [
             1,
             "#f0f921"
            ]
           ],
           "sequentialminus": [
            [
             0,
             "#0d0887"
            ],
            [
             0.1111111111111111,
             "#46039f"
            ],
            [
             0.2222222222222222,
             "#7201a8"
            ],
            [
             0.3333333333333333,
             "#9c179e"
            ],
            [
             0.4444444444444444,
             "#bd3786"
            ],
            [
             0.5555555555555556,
             "#d8576b"
            ],
            [
             0.6666666666666666,
             "#ed7953"
            ],
            [
             0.7777777777777778,
             "#fb9f3a"
            ],
            [
             0.8888888888888888,
             "#fdca26"
            ],
            [
             1,
             "#f0f921"
            ]
           ]
          },
          "colorway": [
           "#636efa",
           "#EF553B",
           "#00cc96",
           "#ab63fa",
           "#FFA15A",
           "#19d3f3",
           "#FF6692",
           "#B6E880",
           "#FF97FF",
           "#FECB52"
          ],
          "font": {
           "color": "#2a3f5f"
          },
          "geo": {
           "bgcolor": "white",
           "lakecolor": "white",
           "landcolor": "#E5ECF6",
           "showlakes": true,
           "showland": true,
           "subunitcolor": "white"
          },
          "hoverlabel": {
           "align": "left"
          },
          "hovermode": "closest",
          "mapbox": {
           "style": "light"
          },
          "paper_bgcolor": "white",
          "plot_bgcolor": "#E5ECF6",
          "polar": {
           "angularaxis": {
            "gridcolor": "white",
            "linecolor": "white",
            "ticks": ""
           },
           "bgcolor": "#E5ECF6",
           "radialaxis": {
            "gridcolor": "white",
            "linecolor": "white",
            "ticks": ""
           }
          },
          "scene": {
           "xaxis": {
            "backgroundcolor": "#E5ECF6",
            "gridcolor": "white",
            "gridwidth": 2,
            "linecolor": "white",
            "showbackground": true,
            "ticks": "",
            "zerolinecolor": "white"
           },
           "yaxis": {
            "backgroundcolor": "#E5ECF6",
            "gridcolor": "white",
            "gridwidth": 2,
            "linecolor": "white",
            "showbackground": true,
            "ticks": "",
            "zerolinecolor": "white"
           },
           "zaxis": {
            "backgroundcolor": "#E5ECF6",
            "gridcolor": "white",
            "gridwidth": 2,
            "linecolor": "white",
            "showbackground": true,
            "ticks": "",
            "zerolinecolor": "white"
           }
          },
          "shapedefaults": {
           "line": {
            "color": "#2a3f5f"
           }
          },
          "ternary": {
           "aaxis": {
            "gridcolor": "white",
            "linecolor": "white",
            "ticks": ""
           },
           "baxis": {
            "gridcolor": "white",
            "linecolor": "white",
            "ticks": ""
           },
           "bgcolor": "#E5ECF6",
           "caxis": {
            "gridcolor": "white",
            "linecolor": "white",
            "ticks": ""
           }
          },
          "title": {
           "x": 0.05
          },
          "xaxis": {
           "automargin": true,
           "gridcolor": "white",
           "linecolor": "white",
           "ticks": "",
           "title": {
            "standoff": 15
           },
           "zerolinecolor": "white",
           "zerolinewidth": 2
          },
          "yaxis": {
           "automargin": true,
           "gridcolor": "white",
           "linecolor": "white",
           "ticks": "",
           "title": {
            "standoff": 15
           },
           "zerolinecolor": "white",
           "zerolinewidth": 2
          }
         }
        },
        "title": {
         "text": "Distribution of COVID-19 Cases in Indonesia by Region",
         "x": 0.5
        },
        "width": 1000
       }
      }
     },
     "metadata": {},
     "output_type": "display_data"
    }
   ],
   "source": [
    "fig = px.sunburst(\n",
    "    new_cases_by_location,\n",
    "    path=['island', 'location'], \n",
    "    values='total_new_cases',\n",
    "    title='Total Cases Over Time',\n",
    "    template='plotly',        \n",
    "    width=1000, \n",
    "    height=1000\n",
    ")\n",
    "\n",
    "fig.update_traces(textinfo='label+percent parent') \n",
    "fig.update_layout(\n",
    "    title_text='Distribution of COVID-19 Cases in Indonesia by Location', \n",
    "    title_x=0.5           \n",
    ")\n",
    "\n",
    "fig.show()"
   ]
  },
  {
   "cell_type": "markdown",
   "metadata": {},
   "source": [
    "The chart reveals that the island of Java, particularly DKI Jakarta, is the most affected by COVID-19 cases in Indonesia. DKI Jakarta alone comprises 32% of the cases, the highest among all regions. Collectively, the provinces on Java—including DKI Jakarta, Jawa Barat, Jawa Tengah, and Jawa Timur—account for 69% of the total cases, indicating a significant concentration of the pandemic within this island."
   ]
  },
  {
   "cell_type": "markdown",
   "metadata": {},
   "source": [
    "## Geographic Analysis"
   ]
  },
  {
   "cell_type": "markdown",
   "metadata": {},
   "source": [
    "To see the distribution of cases in Indonesia, we can make a map by utilizing the folium library.\n",
    "\n",
    "***Note: Due to github's limitations in showing interactive charts, the chart cannot be rendered directly by github. Please see the results in the portfolio.***"
   ]
  },
  {
   "cell_type": "code",
   "execution_count": 54,
   "metadata": {},
   "outputs": [],
   "source": [
    "geo_data = sql(\n",
    "    \"\"\"\n",
    "    SELECT\n",
    "        location,\n",
    "        MAX(total_cases) AS total_cases,\n",
    "        AVG(latitude) AS latitude,\n",
    "        AVG(longitude) AS longitude\n",
    "    FROM df\n",
    "    GROUP BY location;\n",
    "    \"\"\"\n",
    ")"
   ]
  },
  {
   "cell_type": "code",
   "execution_count": 61,
   "metadata": {},
   "outputs": [
    {
     "data": {
      "text/html": [
       "<div style=\"width:100%;\"><div style=\"position:relative;width:100%;height:0;padding-bottom:60%;\"><span style=\"color:#565656\">Make this Notebook Trusted to load map: File -> Trust Notebook</span><iframe srcdoc=\"&lt;!DOCTYPE html&gt;\n",
       "&lt;html&gt;\n",
       "&lt;head&gt;\n",
       "    \n",
       "    &lt;meta http-equiv=&quot;content-type&quot; content=&quot;text/html; charset=UTF-8&quot; /&gt;\n",
       "    \n",
       "        &lt;script&gt;\n",
       "            L_NO_TOUCH = false;\n",
       "            L_DISABLE_3D = false;\n",
       "        &lt;/script&gt;\n",
       "    \n",
       "    &lt;style&gt;html, body {width: 100%;height: 100%;margin: 0;padding: 0;}&lt;/style&gt;\n",
       "    &lt;style&gt;#map {position:absolute;top:0;bottom:0;right:0;left:0;}&lt;/style&gt;\n",
       "    &lt;script src=&quot;https://cdn.jsdelivr.net/npm/leaflet@1.9.3/dist/leaflet.js&quot;&gt;&lt;/script&gt;\n",
       "    &lt;script src=&quot;https://code.jquery.com/jquery-3.7.1.min.js&quot;&gt;&lt;/script&gt;\n",
       "    &lt;script src=&quot;https://cdn.jsdelivr.net/npm/bootstrap@5.2.2/dist/js/bootstrap.bundle.min.js&quot;&gt;&lt;/script&gt;\n",
       "    &lt;script src=&quot;https://cdnjs.cloudflare.com/ajax/libs/Leaflet.awesome-markers/2.0.2/leaflet.awesome-markers.js&quot;&gt;&lt;/script&gt;\n",
       "    &lt;link rel=&quot;stylesheet&quot; href=&quot;https://cdn.jsdelivr.net/npm/leaflet@1.9.3/dist/leaflet.css&quot;/&gt;\n",
       "    &lt;link rel=&quot;stylesheet&quot; href=&quot;https://cdn.jsdelivr.net/npm/bootstrap@5.2.2/dist/css/bootstrap.min.css&quot;/&gt;\n",
       "    &lt;link rel=&quot;stylesheet&quot; href=&quot;https://netdna.bootstrapcdn.com/bootstrap/3.0.0/css/bootstrap-glyphicons.css&quot;/&gt;\n",
       "    &lt;link rel=&quot;stylesheet&quot; href=&quot;https://cdn.jsdelivr.net/npm/@fortawesome/fontawesome-free@6.2.0/css/all.min.css&quot;/&gt;\n",
       "    &lt;link rel=&quot;stylesheet&quot; href=&quot;https://cdnjs.cloudflare.com/ajax/libs/Leaflet.awesome-markers/2.0.2/leaflet.awesome-markers.css&quot;/&gt;\n",
       "    &lt;link rel=&quot;stylesheet&quot; href=&quot;https://cdn.jsdelivr.net/gh/python-visualization/folium/folium/templates/leaflet.awesome.rotate.min.css&quot;/&gt;\n",
       "    \n",
       "            &lt;meta name=&quot;viewport&quot; content=&quot;width=device-width,\n",
       "                initial-scale=1.0, maximum-scale=1.0, user-scalable=no&quot; /&gt;\n",
       "            &lt;style&gt;\n",
       "                #map_12230cf35d0f62b382e0722dc9da8bf8 {\n",
       "                    position: relative;\n",
       "                    width: 100.0%;\n",
       "                    height: 100.0%;\n",
       "                    left: 0.0%;\n",
       "                    top: 0.0%;\n",
       "                }\n",
       "                .leaflet-container { font-size: 1rem; }\n",
       "            &lt;/style&gt;\n",
       "        \n",
       "&lt;/head&gt;\n",
       "&lt;body&gt;\n",
       "    \n",
       "    \n",
       "            &lt;div class=&quot;folium-map&quot; id=&quot;map_12230cf35d0f62b382e0722dc9da8bf8&quot; &gt;&lt;/div&gt;\n",
       "        \n",
       "&lt;/body&gt;\n",
       "&lt;script&gt;\n",
       "    \n",
       "    \n",
       "            var map_12230cf35d0f62b382e0722dc9da8bf8 = L.map(\n",
       "                &quot;map_12230cf35d0f62b382e0722dc9da8bf8&quot;,\n",
       "                {\n",
       "                    center: [-2.7746637603529463, 113.7231285988235],\n",
       "                    crs: L.CRS.EPSG3857,\n",
       "                    ...{\n",
       "  &quot;zoom&quot;: 5,\n",
       "  &quot;zoomControl&quot;: true,\n",
       "  &quot;preferCanvas&quot;: false,\n",
       "}\n",
       "\n",
       "                }\n",
       "            );\n",
       "\n",
       "            \n",
       "\n",
       "        \n",
       "    \n",
       "            var tile_layer_cab56619dc78061edab8e39309a195c4 = L.tileLayer(\n",
       "                &quot;https://tile.openstreetmap.org/{z}/{x}/{y}.png&quot;,\n",
       "                {\n",
       "  &quot;minZoom&quot;: 0,\n",
       "  &quot;maxZoom&quot;: 19,\n",
       "  &quot;maxNativeZoom&quot;: 19,\n",
       "  &quot;noWrap&quot;: false,\n",
       "  &quot;attribution&quot;: &quot;\\u0026copy; \\u003ca href=\\&quot;https://www.openstreetmap.org/copyright\\&quot;\\u003eOpenStreetMap\\u003c/a\\u003e contributors&quot;,\n",
       "  &quot;subdomains&quot;: &quot;abc&quot;,\n",
       "  &quot;detectRetina&quot;: false,\n",
       "  &quot;tms&quot;: false,\n",
       "  &quot;opacity&quot;: 1,\n",
       "}\n",
       "\n",
       "            );\n",
       "        \n",
       "    \n",
       "            tile_layer_cab56619dc78061edab8e39309a195c4.addTo(map_12230cf35d0f62b382e0722dc9da8bf8);\n",
       "        \n",
       "    \n",
       "            var circle_9349a5e67ca15b8d35fe86de196a04db = L.circle(\n",
       "                [2.1918944530000206, 99.0519644199998],\n",
       "                {&quot;bubblingMouseEvents&quot;: true, &quot;color&quot;: &quot;crimson&quot;, &quot;dashArray&quot;: null, &quot;dashOffset&quot;: null, &quot;fill&quot;: true, &quot;fillColor&quot;: &quot;crimson&quot;, &quot;fillOpacity&quot;: 0.2, &quot;fillRule&quot;: &quot;evenodd&quot;, &quot;lineCap&quot;: &quot;round&quot;, &quot;lineJoin&quot;: &quot;round&quot;, &quot;opacity&quot;: 1.0, &quot;radius&quot;: 31773.2, &quot;stroke&quot;: true, &quot;weight&quot;: 3}\n",
       "            ).addTo(map_12230cf35d0f62b382e0722dc9da8bf8);\n",
       "        \n",
       "    \n",
       "            circle_9349a5e67ca15b8d35fe86de196a04db.bindTooltip(\n",
       "                `&lt;div&gt;\n",
       "                     Sumatera Utara: 158866 cases\n",
       "                 &lt;/div&gt;`,\n",
       "                {\n",
       "  &quot;sticky&quot;: true,\n",
       "}\n",
       "            );\n",
       "        \n",
       "    \n",
       "            var circle_0a783c04b32daa0bbc5c2eb5ca00f3f7 = L.circle(\n",
       "                [3.9163459999999777, 108.26174600000014],\n",
       "                {&quot;bubblingMouseEvents&quot;: true, &quot;color&quot;: &quot;crimson&quot;, &quot;dashArray&quot;: null, &quot;dashOffset&quot;: null, &quot;fill&quot;: true, &quot;fillColor&quot;: &quot;crimson&quot;, &quot;fillOpacity&quot;: 0.2, &quot;fillRule&quot;: &quot;evenodd&quot;, &quot;lineCap&quot;: &quot;round&quot;, &quot;lineJoin&quot;: &quot;round&quot;, &quot;opacity&quot;: 1.0, &quot;radius&quot;: 14176.6, &quot;stroke&quot;: true, &quot;weight&quot;: 3}\n",
       "            ).addTo(map_12230cf35d0f62b382e0722dc9da8bf8);\n",
       "        \n",
       "    \n",
       "            circle_0a783c04b32daa0bbc5c2eb5ca00f3f7.bindTooltip(\n",
       "                `&lt;div&gt;\n",
       "                     Kepulauan Riau: 70883 cases\n",
       "                 &lt;/div&gt;`,\n",
       "                {\n",
       "  &quot;sticky&quot;: true,\n",
       "}\n",
       "            );\n",
       "        \n",
       "    \n",
       "            var circle_eb4d8192e51d1481e346075d5600b9ee = L.circle(\n",
       "                [-1.6976976599999751, 102.7236403999996],\n",
       "                {&quot;bubblingMouseEvents&quot;: true, &quot;color&quot;: &quot;crimson&quot;, &quot;dashArray&quot;: null, &quot;dashOffset&quot;: null, &quot;fill&quot;: true, &quot;fillColor&quot;: &quot;crimson&quot;, &quot;fillOpacity&quot;: 0.2, &quot;fillRule&quot;: &quot;evenodd&quot;, &quot;lineCap&quot;: &quot;round&quot;, &quot;lineJoin&quot;: &quot;round&quot;, &quot;opacity&quot;: 1.0, &quot;radius&quot;: 7728.6, &quot;stroke&quot;: true, &quot;weight&quot;: 3}\n",
       "            ).addTo(map_12230cf35d0f62b382e0722dc9da8bf8);\n",
       "        \n",
       "    \n",
       "            circle_eb4d8192e51d1481e346075d5600b9ee.bindTooltip(\n",
       "                `&lt;div&gt;\n",
       "                     Jambi: 38643 cases\n",
       "                 &lt;/div&gt;`,\n",
       "                {\n",
       "  &quot;sticky&quot;: true,\n",
       "}\n",
       "            );\n",
       "        \n",
       "    \n",
       "            var circle_5e891014aff9185233fe78d058b94066 = L.circle(\n",
       "                [0.21203694900000145, 127.53910720000181],\n",
       "                {&quot;bubblingMouseEvents&quot;: true, &quot;color&quot;: &quot;crimson&quot;, &quot;dashArray&quot;: null, &quot;dashOffset&quot;: null, &quot;fill&quot;: true, &quot;fillColor&quot;: &quot;crimson&quot;, &quot;fillOpacity&quot;: 0.2, &quot;fillRule&quot;: &quot;evenodd&quot;, &quot;lineCap&quot;: &quot;round&quot;, &quot;lineJoin&quot;: &quot;round&quot;, &quot;opacity&quot;: 1.0, &quot;radius&quot;: 2919.0, &quot;stroke&quot;: true, &quot;weight&quot;: 3}\n",
       "            ).addTo(map_12230cf35d0f62b382e0722dc9da8bf8);\n",
       "        \n",
       "    \n",
       "            circle_5e891014aff9185233fe78d058b94066.bindTooltip(\n",
       "                `&lt;div&gt;\n",
       "                     Maluku Utara: 14595 cases\n",
       "                 &lt;/div&gt;`,\n",
       "                {\n",
       "  &quot;sticky&quot;: true,\n",
       "}\n",
       "            );\n",
       "        \n",
       "    \n",
       "            var circle_f1ee725818dcb736e9bb4fece8502d74 = L.circle(\n",
       "                [-3.216211808000023, 104.169464699998],\n",
       "                {&quot;bubblingMouseEvents&quot;: true, &quot;color&quot;: &quot;crimson&quot;, &quot;dashArray&quot;: null, &quot;dashOffset&quot;: null, &quot;fill&quot;: true, &quot;fillColor&quot;: &quot;crimson&quot;, &quot;fillOpacity&quot;: 0.2, &quot;fillRule&quot;: &quot;evenodd&quot;, &quot;lineCap&quot;: &quot;round&quot;, &quot;lineJoin&quot;: &quot;round&quot;, &quot;opacity&quot;: 1.0, &quot;radius&quot;: 16439.6, &quot;stroke&quot;: true, &quot;weight&quot;: 3}\n",
       "            ).addTo(map_12230cf35d0f62b382e0722dc9da8bf8);\n",
       "        \n",
       "    \n",
       "            circle_f1ee725818dcb736e9bb4fece8502d74.bindTooltip(\n",
       "                `&lt;div&gt;\n",
       "                     Sumatera Selatan: 82198 cases\n",
       "                 &lt;/div&gt;`,\n",
       "                {\n",
       "  &quot;sticky&quot;: true,\n",
       "}\n",
       "            );\n",
       "        \n",
       "    \n",
       "            var circle_3bdf62c9cde3fcf7b917d84d83bdd596 = L.circle(\n",
       "                [2.8910126209999882, 116.21887909999796],\n",
       "                {&quot;bubblingMouseEvents&quot;: true, &quot;color&quot;: &quot;crimson&quot;, &quot;dashArray&quot;: null, &quot;dashOffset&quot;: null, &quot;fill&quot;: true, &quot;fillColor&quot;: &quot;crimson&quot;, &quot;fillOpacity&quot;: 0.2, &quot;fillRule&quot;: &quot;evenodd&quot;, &quot;lineCap&quot;: &quot;round&quot;, &quot;lineJoin&quot;: &quot;round&quot;, &quot;opacity&quot;: 1.0, &quot;radius&quot;: 9083.4, &quot;stroke&quot;: true, &quot;weight&quot;: 3}\n",
       "            ).addTo(map_12230cf35d0f62b382e0722dc9da8bf8);\n",
       "        \n",
       "    \n",
       "            circle_3bdf62c9cde3fcf7b917d84d83bdd596.bindTooltip(\n",
       "                `&lt;div&gt;\n",
       "                     Kalimantan Utara: 45417 cases\n",
       "                 &lt;/div&gt;`,\n",
       "                {\n",
       "  &quot;sticky&quot;: true,\n",
       "}\n",
       "            );\n",
       "        \n",
       "    \n",
       "            var circle_94949381a11ca76169f1b685e0e4ec33 = L.circle(\n",
       "                [-2.4474441269999687, 106.5499323999985],\n",
       "                {&quot;bubblingMouseEvents&quot;: true, &quot;color&quot;: &quot;crimson&quot;, &quot;dashArray&quot;: null, &quot;dashOffset&quot;: null, &quot;fill&quot;: true, &quot;fillColor&quot;: &quot;crimson&quot;, &quot;fillOpacity&quot;: 0.2, &quot;fillRule&quot;: &quot;evenodd&quot;, &quot;lineCap&quot;: &quot;round&quot;, &quot;lineJoin&quot;: &quot;round&quot;, &quot;opacity&quot;: 1.0, &quot;radius&quot;: 13228.8, &quot;stroke&quot;: true, &quot;weight&quot;: 3}\n",
       "            ).addTo(map_12230cf35d0f62b382e0722dc9da8bf8);\n",
       "        \n",
       "    \n",
       "            circle_94949381a11ca76169f1b685e0e4ec33.bindTooltip(\n",
       "                `&lt;div&gt;\n",
       "                     Kepulauan Bangka Belitung: 66144 cases\n",
       "                 &lt;/div&gt;`,\n",
       "                {\n",
       "  &quot;sticky&quot;: true,\n",
       "}\n",
       "            );\n",
       "        \n",
       "    \n",
       "            var circle_bd31305df1b008403ecf54b220ec3186 = L.circle(\n",
       "                [-6.204698991000118, 106.83611829999877],\n",
       "                {&quot;bubblingMouseEvents&quot;: true, &quot;color&quot;: &quot;crimson&quot;, &quot;dashArray&quot;: null, &quot;dashOffset&quot;: null, &quot;fill&quot;: true, &quot;fillColor&quot;: &quot;crimson&quot;, &quot;fillOpacity&quot;: 0.2, &quot;fillRule&quot;: &quot;evenodd&quot;, &quot;lineCap&quot;: &quot;round&quot;, &quot;lineJoin&quot;: &quot;round&quot;, &quot;opacity&quot;: 1.0, &quot;radius&quot;: 282502.2, &quot;stroke&quot;: true, &quot;weight&quot;: 3}\n",
       "            ).addTo(map_12230cf35d0f62b382e0722dc9da8bf8);\n",
       "        \n",
       "    \n",
       "            circle_bd31305df1b008403ecf54b220ec3186.bindTooltip(\n",
       "                `&lt;div&gt;\n",
       "                     DKI Jakarta: 1412511 cases\n",
       "                 &lt;/div&gt;`,\n",
       "                {\n",
       "  &quot;sticky&quot;: true,\n",
       "}\n",
       "            );\n",
       "        \n",
       "    \n",
       "            var circle_75d25b49ba241e178c8f09d9b6cd465a = L.circle(\n",
       "                [0.5116478510000082, 101.80510919999911],\n",
       "                {&quot;bubblingMouseEvents&quot;: true, &quot;color&quot;: &quot;crimson&quot;, &quot;dashArray&quot;: null, &quot;dashOffset&quot;: null, &quot;fill&quot;: true, &quot;fillColor&quot;: &quot;crimson&quot;, &quot;fillOpacity&quot;: 0.2, &quot;fillRule&quot;: &quot;evenodd&quot;, &quot;lineCap&quot;: &quot;round&quot;, &quot;lineJoin&quot;: &quot;round&quot;, &quot;opacity&quot;: 1.0, &quot;radius&quot;: 30529.6, &quot;stroke&quot;: true, &quot;weight&quot;: 3}\n",
       "            ).addTo(map_12230cf35d0f62b382e0722dc9da8bf8);\n",
       "        \n",
       "    \n",
       "            circle_75d25b49ba241e178c8f09d9b6cd465a.bindTooltip(\n",
       "                `&lt;div&gt;\n",
       "                     Riau: 152648 cases\n",
       "                 &lt;/div&gt;`,\n",
       "                {\n",
       "  &quot;sticky&quot;: true,\n",
       "}\n",
       "            );\n",
       "        \n",
       "    \n",
       "            var circle_9aa0db1fc71fe7e8985fbbfa9c3270cf = L.circle(\n",
       "                [-6.920432083000103, 107.60370829999835],\n",
       "                {&quot;bubblingMouseEvents&quot;: true, &quot;color&quot;: &quot;crimson&quot;, &quot;dashArray&quot;: null, &quot;dashOffset&quot;: null, &quot;fill&quot;: true, &quot;fillColor&quot;: &quot;crimson&quot;, &quot;fillOpacity&quot;: 0.2, &quot;fillRule&quot;: &quot;evenodd&quot;, &quot;lineCap&quot;: &quot;round&quot;, &quot;lineJoin&quot;: &quot;round&quot;, &quot;opacity&quot;: 1.0, &quot;radius&quot;: 234746.2, &quot;stroke&quot;: true, &quot;weight&quot;: 3}\n",
       "            ).addTo(map_12230cf35d0f62b382e0722dc9da8bf8);\n",
       "        \n",
       "    \n",
       "            circle_9aa0db1fc71fe7e8985fbbfa9c3270cf.bindTooltip(\n",
       "                `&lt;div&gt;\n",
       "                     Jawa Barat: 1173731 cases\n",
       "                 &lt;/div&gt;`,\n",
       "                {\n",
       "  &quot;sticky&quot;: true,\n",
       "}\n",
       "            );\n",
       "        \n",
       "    \n",
       "            var circle_d4cfd4e732f88eb801e65c9f86c4e506 = L.circle(\n",
       "                [-8.369471687999978, 115.1317135999998],\n",
       "                {&quot;bubblingMouseEvents&quot;: true, &quot;color&quot;: &quot;crimson&quot;, &quot;dashArray&quot;: null, &quot;dashOffset&quot;: null, &quot;fill&quot;: true, &quot;fillColor&quot;: &quot;crimson&quot;, &quot;fillOpacity&quot;: 0.2, &quot;fillRule&quot;: &quot;evenodd&quot;, &quot;lineCap&quot;: &quot;round&quot;, &quot;lineJoin&quot;: &quot;round&quot;, &quot;opacity&quot;: 1.0, &quot;radius&quot;: 33366.2, &quot;stroke&quot;: true, &quot;weight&quot;: 3}\n",
       "            ).addTo(map_12230cf35d0f62b382e0722dc9da8bf8);\n",
       "        \n",
       "    \n",
       "            circle_d4cfd4e732f88eb801e65c9f86c4e506.bindTooltip(\n",
       "                `&lt;div&gt;\n",
       "                     Bali: 166831 cases\n",
       "                 &lt;/div&gt;`,\n",
       "                {\n",
       "  &quot;sticky&quot;: true,\n",
       "}\n",
       "            );\n",
       "        \n",
       "    \n",
       "            var circle_e1e635b793ea91690873c2b0c2c39ac5 = L.circle(\n",
       "                [-3.7310807140000652, 120.16205590000025],\n",
       "                {&quot;bubblingMouseEvents&quot;: true, &quot;color&quot;: &quot;crimson&quot;, &quot;dashArray&quot;: null, &quot;dashOffset&quot;: null, &quot;fill&quot;: true, &quot;fillColor&quot;: &quot;crimson&quot;, &quot;fillOpacity&quot;: 0.2, &quot;fillRule&quot;: &quot;evenodd&quot;, &quot;lineCap&quot;: &quot;round&quot;, &quot;lineJoin&quot;: &quot;round&quot;, &quot;opacity&quot;: 1.0, &quot;radius&quot;: 28898.8, &quot;stroke&quot;: true, &quot;weight&quot;: 3}\n",
       "            ).addTo(map_12230cf35d0f62b382e0722dc9da8bf8);\n",
       "        \n",
       "    \n",
       "            circle_e1e635b793ea91690873c2b0c2c39ac5.bindTooltip(\n",
       "                `&lt;div&gt;\n",
       "                     Sulawesi Selatan: 144494 cases\n",
       "                 &lt;/div&gt;`,\n",
       "                {\n",
       "  &quot;sticky&quot;: true,\n",
       "}\n",
       "            );\n",
       "        \n",
       "    \n",
       "            var circle_587f397962de48e8d850622ae841a16b = L.circle(\n",
       "                [-4.916792975000054, 105.0214366],\n",
       "                {&quot;bubblingMouseEvents&quot;: true, &quot;color&quot;: &quot;crimson&quot;, &quot;dashArray&quot;: null, &quot;dashOffset&quot;: null, &quot;fill&quot;: true, &quot;fillColor&quot;: &quot;crimson&quot;, &quot;fillOpacity&quot;: 0.2, &quot;fillRule&quot;: &quot;evenodd&quot;, &quot;lineCap&quot;: &quot;round&quot;, &quot;lineJoin&quot;: &quot;round&quot;, &quot;opacity&quot;: 1.0, &quot;radius&quot;: 15097.0, &quot;stroke&quot;: true, &quot;weight&quot;: 3}\n",
       "            ).addTo(map_12230cf35d0f62b382e0722dc9da8bf8);\n",
       "        \n",
       "    \n",
       "            circle_587f397962de48e8d850622ae841a16b.bindTooltip(\n",
       "                `&lt;div&gt;\n",
       "                     Lampung: 75485 cases\n",
       "                 &lt;/div&gt;`,\n",
       "                {\n",
       "  &quot;sticky&quot;: true,\n",
       "}\n",
       "            );\n",
       "        \n",
       "    \n",
       "            var circle_1cbe771f3d33507316c17ccc1d908af7 = L.circle(\n",
       "                [-1.0041366799999898, 121.20109269999789],\n",
       "                {&quot;bubblingMouseEvents&quot;: true, &quot;color&quot;: &quot;crimson&quot;, &quot;dashArray&quot;: null, &quot;dashOffset&quot;: null, &quot;fill&quot;: true, &quot;fillColor&quot;: &quot;crimson&quot;, &quot;fillOpacity&quot;: 0.2, &quot;fillRule&quot;: &quot;evenodd&quot;, &quot;lineCap&quot;: &quot;round&quot;, &quot;lineJoin&quot;: &quot;round&quot;, &quot;opacity&quot;: 1.0, &quot;radius&quot;: 12219.8, &quot;stroke&quot;: true, &quot;weight&quot;: 3}\n",
       "            ).addTo(map_12230cf35d0f62b382e0722dc9da8bf8);\n",
       "        \n",
       "    \n",
       "            circle_1cbe771f3d33507316c17ccc1d908af7.bindTooltip(\n",
       "                `&lt;div&gt;\n",
       "                     Sulawesi Tengah: 61099 cases\n",
       "                 &lt;/div&gt;`,\n",
       "                {\n",
       "  &quot;sticky&quot;: true,\n",
       "}\n",
       "            );\n",
       "        \n",
       "    \n",
       "            var circle_0356d719c9cb343d73f5dd9807e81b76 = L.circle(\n",
       "                [-8.606998866000094, 117.5086256999975],\n",
       "                {&quot;bubblingMouseEvents&quot;: true, &quot;color&quot;: &quot;crimson&quot;, &quot;dashArray&quot;: null, &quot;dashOffset&quot;: null, &quot;fill&quot;: true, &quot;fillColor&quot;: &quot;crimson&quot;, &quot;fillOpacity&quot;: 0.2, &quot;fillRule&quot;: &quot;evenodd&quot;, &quot;lineCap&quot;: &quot;round&quot;, &quot;lineJoin&quot;: &quot;round&quot;, &quot;opacity&quot;: 1.0, &quot;radius&quot;: 7249.4, &quot;stroke&quot;: true, &quot;weight&quot;: 3}\n",
       "            ).addTo(map_12230cf35d0f62b382e0722dc9da8bf8);\n",
       "        \n",
       "    \n",
       "            circle_0356d719c9cb343d73f5dd9807e81b76.bindTooltip(\n",
       "                `&lt;div&gt;\n",
       "                     Nusa Tenggara Barat: 36247 cases\n",
       "                 &lt;/div&gt;`,\n",
       "                {\n",
       "  &quot;sticky&quot;: true,\n",
       "}\n",
       "            );\n",
       "        \n",
       "    \n",
       "            var circle_e052837c9908c81dc6b0b7a27ea31704 = L.circle(\n",
       "                [0.6870026039999947, 122.37605809999864],\n",
       "                {&quot;bubblingMouseEvents&quot;: true, &quot;color&quot;: &quot;crimson&quot;, &quot;dashArray&quot;: null, &quot;dashOffset&quot;: null, &quot;fill&quot;: true, &quot;fillColor&quot;: &quot;crimson&quot;, &quot;fillOpacity&quot;: 0.2, &quot;fillRule&quot;: &quot;evenodd&quot;, &quot;lineCap&quot;: &quot;round&quot;, &quot;lineJoin&quot;: &quot;round&quot;, &quot;opacity&quot;: 1.0, &quot;radius&quot;: 2790.2, &quot;stroke&quot;: true, &quot;weight&quot;: 3}\n",
       "            ).addTo(map_12230cf35d0f62b382e0722dc9da8bf8);\n",
       "        \n",
       "    \n",
       "            circle_e052837c9908c81dc6b0b7a27ea31704.bindTooltip(\n",
       "                `&lt;div&gt;\n",
       "                     Gorontalo: 13951 cases\n",
       "                 &lt;/div&gt;`,\n",
       "                {\n",
       "  &quot;sticky&quot;: true,\n",
       "}\n",
       "            );\n",
       "        \n",
       "    \n",
       "            var circle_68e138f0f0610069cc13a09b9fa1421b = L.circle(\n",
       "                [-6.456736387999923, 106.10900430000035],\n",
       "                {&quot;bubblingMouseEvents&quot;: true, &quot;color&quot;: &quot;crimson&quot;, &quot;dashArray&quot;: null, &quot;dashOffset&quot;: null, &quot;fill&quot;: true, &quot;fillColor&quot;: &quot;crimson&quot;, &quot;fillOpacity&quot;: 0.2, &quot;fillRule&quot;: &quot;evenodd&quot;, &quot;lineCap&quot;: &quot;round&quot;, &quot;lineJoin&quot;: &quot;round&quot;, &quot;opacity&quot;: 1.0, &quot;radius&quot;: 66775.0, &quot;stroke&quot;: true, &quot;weight&quot;: 3}\n",
       "            ).addTo(map_12230cf35d0f62b382e0722dc9da8bf8);\n",
       "        \n",
       "    \n",
       "            circle_68e138f0f0610069cc13a09b9fa1421b.bindTooltip(\n",
       "                `&lt;div&gt;\n",
       "                     Banten: 333875 cases\n",
       "                 &lt;/div&gt;`,\n",
       "                {\n",
       "  &quot;sticky&quot;: true,\n",
       "}\n",
       "            );\n",
       "        \n",
       "    \n",
       "            var circle_b22ff82124b09df59fe8231b4e53f829 = L.circle(\n",
       "                [-7.259097176999869, 110.20111490000161],\n",
       "                {&quot;bubblingMouseEvents&quot;: true, &quot;color&quot;: &quot;crimson&quot;, &quot;dashArray&quot;: null, &quot;dashOffset&quot;: null, &quot;fill&quot;: true, &quot;fillColor&quot;: &quot;crimson&quot;, &quot;fillOpacity&quot;: 0.2, &quot;fillRule&quot;: &quot;evenodd&quot;, &quot;lineCap&quot;: &quot;round&quot;, &quot;lineJoin&quot;: &quot;round&quot;, &quot;opacity&quot;: 1.0, &quot;radius&quot;: 127281.8, &quot;stroke&quot;: true, &quot;weight&quot;: 3}\n",
       "            ).addTo(map_12230cf35d0f62b382e0722dc9da8bf8);\n",
       "        \n",
       "    \n",
       "            circle_b22ff82124b09df59fe8231b4e53f829.bindTooltip(\n",
       "                `&lt;div&gt;\n",
       "                     Jawa Tengah: 636409 cases\n",
       "                 &lt;/div&gt;`,\n",
       "                {\n",
       "  &quot;sticky&quot;: true,\n",
       "}\n",
       "            );\n",
       "        \n",
       "    \n",
       "            var circle_78bcf8dcc724b43d7cf4efb0dc536b38 = L.circle(\n",
       "                [-4.124688793000039, 122.07031100000212],\n",
       "                {&quot;bubblingMouseEvents&quot;: true, &quot;color&quot;: &quot;crimson&quot;, &quot;dashArray&quot;: null, &quot;dashOffset&quot;: null, &quot;fill&quot;: true, &quot;fillColor&quot;: &quot;crimson&quot;, &quot;fillOpacity&quot;: 0.2, &quot;fillRule&quot;: &quot;evenodd&quot;, &quot;lineCap&quot;: &quot;round&quot;, &quot;lineJoin&quot;: &quot;round&quot;, &quot;opacity&quot;: 1.0, &quot;radius&quot;: 5138.6, &quot;stroke&quot;: true, &quot;weight&quot;: 3}\n",
       "            ).addTo(map_12230cf35d0f62b382e0722dc9da8bf8);\n",
       "        \n",
       "    \n",
       "            circle_78bcf8dcc724b43d7cf4efb0dc536b38.bindTooltip(\n",
       "                `&lt;div&gt;\n",
       "                     Sulawesi Tenggara: 25693 cases\n",
       "                 &lt;/div&gt;`,\n",
       "                {\n",
       "  &quot;sticky&quot;: true,\n",
       "}\n",
       "            );\n",
       "        \n",
       "    \n",
       "            var circle_7c96474229187f507f80449d42c0e33a = L.circle(\n",
       "                [-7.894501849999919, 110.44487829999818],\n",
       "                {&quot;bubblingMouseEvents&quot;: true, &quot;color&quot;: &quot;crimson&quot;, &quot;dashArray&quot;: null, &quot;dashOffset&quot;: null, &quot;fill&quot;: true, &quot;fillColor&quot;: &quot;crimson&quot;, &quot;fillOpacity&quot;: 0.2, &quot;fillRule&quot;: &quot;evenodd&quot;, &quot;lineCap&quot;: &quot;round&quot;, &quot;lineJoin&quot;: &quot;round&quot;, &quot;opacity&quot;: 1.0, &quot;radius&quot;: 44861.4, &quot;stroke&quot;: true, &quot;weight&quot;: 3}\n",
       "            ).addTo(map_12230cf35d0f62b382e0722dc9da8bf8);\n",
       "        \n",
       "    \n",
       "            circle_7c96474229187f507f80449d42c0e33a.bindTooltip(\n",
       "                `&lt;div&gt;\n",
       "                     Daerah Istimewa Yogyakarta: 224307 cases\n",
       "                 &lt;/div&gt;`,\n",
       "                {\n",
       "  &quot;sticky&quot;: true,\n",
       "}\n",
       "            );\n",
       "        \n",
       "    \n",
       "            var circle_d43e20abbac5d619b100e3f6018cef5d = L.circle(\n",
       "                [-7.723345579000075, 112.7329413999987],\n",
       "                {&quot;bubblingMouseEvents&quot;: true, &quot;color&quot;: &quot;crimson&quot;, &quot;dashArray&quot;: null, &quot;dashOffset&quot;: null, &quot;fill&quot;: true, &quot;fillColor&quot;: &quot;crimson&quot;, &quot;fillOpacity&quot;: 0.2, &quot;fillRule&quot;: &quot;evenodd&quot;, &quot;lineCap&quot;: &quot;round&quot;, &quot;lineJoin&quot;: &quot;round&quot;, &quot;opacity&quot;: 1.0, &quot;radius&quot;: 120309.0, &quot;stroke&quot;: true, &quot;weight&quot;: 3}\n",
       "            ).addTo(map_12230cf35d0f62b382e0722dc9da8bf8);\n",
       "        \n",
       "    \n",
       "            circle_d43e20abbac5d619b100e3f6018cef5d.bindTooltip(\n",
       "                `&lt;div&gt;\n",
       "                     Jawa Timur: 601545 cases\n",
       "                 &lt;/div&gt;`,\n",
       "                {\n",
       "  &quot;sticky&quot;: true,\n",
       "}\n",
       "            );\n",
       "        \n",
       "    \n",
       "            var circle_3cfcf8bc82023f30e19c3c2e7f37b59d = L.circle(\n",
       "                [-3.1925719999999593, 129.57679200000308],\n",
       "                {&quot;bubblingMouseEvents&quot;: true, &quot;color&quot;: &quot;crimson&quot;, &quot;dashArray&quot;: null, &quot;dashOffset&quot;: null, &quot;fill&quot;: true, &quot;fillColor&quot;: &quot;crimson&quot;, &quot;fillOpacity&quot;: 0.2, &quot;fillRule&quot;: &quot;evenodd&quot;, &quot;lineCap&quot;: &quot;round&quot;, &quot;lineJoin&quot;: &quot;round&quot;, &quot;opacity&quot;: 1.0, &quot;radius&quot;: 3747.2, &quot;stroke&quot;: true, &quot;weight&quot;: 3}\n",
       "            ).addTo(map_12230cf35d0f62b382e0722dc9da8bf8);\n",
       "        \n",
       "    \n",
       "            circle_3cfcf8bc82023f30e19c3c2e7f37b59d.bindTooltip(\n",
       "                `&lt;div&gt;\n",
       "                     Maluku: 18736 cases\n",
       "                 &lt;/div&gt;`,\n",
       "                {\n",
       "  &quot;sticky&quot;: true,\n",
       "}\n",
       "            );\n",
       "        \n",
       "    \n",
       "            var circle_24f1066d7556e48ed95f6c0360aeaeb0 = L.circle(\n",
       "                [-1.6024846529999845, 113.41765360000109],\n",
       "                {&quot;bubblingMouseEvents&quot;: true, &quot;color&quot;: &quot;crimson&quot;, &quot;dashArray&quot;: null, &quot;dashOffset&quot;: null, &quot;fill&quot;: true, &quot;fillColor&quot;: &quot;crimson&quot;, &quot;fillOpacity&quot;: 0.2, &quot;fillRule&quot;: &quot;evenodd&quot;, &quot;lineCap&quot;: &quot;round&quot;, &quot;lineJoin&quot;: &quot;round&quot;, &quot;opacity&quot;: 1.0, &quot;radius&quot;: 11643.4, &quot;stroke&quot;: true, &quot;weight&quot;: 3}\n",
       "            ).addTo(map_12230cf35d0f62b382e0722dc9da8bf8);\n",
       "        \n",
       "    \n",
       "            circle_24f1066d7556e48ed95f6c0360aeaeb0.bindTooltip(\n",
       "                `&lt;div&gt;\n",
       "                     Kalimantan Tengah: 58217 cases\n",
       "                 &lt;/div&gt;`,\n",
       "                {\n",
       "  &quot;sticky&quot;: true,\n",
       "}\n",
       "            );\n",
       "        \n",
       "    \n",
       "            var circle_48e2be41718096ba2d9c77eaabdf1976 = L.circle(\n",
       "                [1.2596382120000207, 124.52123959999902],\n",
       "                {&quot;bubblingMouseEvents&quot;: true, &quot;color&quot;: &quot;crimson&quot;, &quot;dashArray&quot;: null, &quot;dashOffset&quot;: null, &quot;fill&quot;: true, &quot;fillColor&quot;: &quot;crimson&quot;, &quot;fillOpacity&quot;: 0.2, &quot;fillRule&quot;: &quot;evenodd&quot;, &quot;lineCap&quot;: &quot;round&quot;, &quot;lineJoin&quot;: &quot;round&quot;, &quot;opacity&quot;: 1.0, &quot;radius&quot;: 10554.0, &quot;stroke&quot;: true, &quot;weight&quot;: 3}\n",
       "            ).addTo(map_12230cf35d0f62b382e0722dc9da8bf8);\n",
       "        \n",
       "    \n",
       "            circle_48e2be41718096ba2d9c77eaabdf1976.bindTooltip(\n",
       "                `&lt;div&gt;\n",
       "                     Sulawesi Utara: 52770 cases\n",
       "                 &lt;/div&gt;`,\n",
       "                {\n",
       "  &quot;sticky&quot;: true,\n",
       "}\n",
       "            );\n",
       "        \n",
       "    \n",
       "            var circle_c2ccd092232820e61dfeb3ef76b580b5 = L.circle(\n",
       "                [-0.850253224999991, 100.465062400001],\n",
       "                {&quot;bubblingMouseEvents&quot;: true, &quot;color&quot;: &quot;crimson&quot;, &quot;dashArray&quot;: null, &quot;dashOffset&quot;: null, &quot;fill&quot;: true, &quot;fillColor&quot;: &quot;crimson&quot;, &quot;fillOpacity&quot;: 0.2, &quot;fillRule&quot;: &quot;evenodd&quot;, &quot;lineCap&quot;: &quot;round&quot;, &quot;lineJoin&quot;: &quot;round&quot;, &quot;opacity&quot;: 1.0, &quot;radius&quot;: 20928.0, &quot;stroke&quot;: true, &quot;weight&quot;: 3}\n",
       "            ).addTo(map_12230cf35d0f62b382e0722dc9da8bf8);\n",
       "        \n",
       "    \n",
       "            circle_c2ccd092232820e61dfeb3ef76b580b5.bindTooltip(\n",
       "                `&lt;div&gt;\n",
       "                     Sumatera Barat: 104640 cases\n",
       "                 &lt;/div&gt;`,\n",
       "                {\n",
       "  &quot;sticky&quot;: true,\n",
       "}\n",
       "            );\n",
       "        \n",
       "    \n",
       "            var circle_ee7ddddb4a6936a0805e5bc5e6f2c83f = L.circle(\n",
       "                [-2.0451601820000147, 132.97626239999957],\n",
       "                {&quot;bubblingMouseEvents&quot;: true, &quot;color&quot;: &quot;crimson&quot;, &quot;dashArray&quot;: null, &quot;dashOffset&quot;: null, &quot;fill&quot;: true, &quot;fillColor&quot;: &quot;crimson&quot;, &quot;fillOpacity&quot;: 0.2, &quot;fillRule&quot;: &quot;evenodd&quot;, &quot;lineCap&quot;: &quot;round&quot;, &quot;lineJoin&quot;: &quot;round&quot;, &quot;opacity&quot;: 1.0, &quot;radius&quot;: 6434.0, &quot;stroke&quot;: true, &quot;weight&quot;: 3}\n",
       "            ).addTo(map_12230cf35d0f62b382e0722dc9da8bf8);\n",
       "        \n",
       "    \n",
       "            circle_ee7ddddb4a6936a0805e5bc5e6f2c83f.bindTooltip(\n",
       "                `&lt;div&gt;\n",
       "                     Papua Barat: 32170 cases\n",
       "                 &lt;/div&gt;`,\n",
       "                {\n",
       "  &quot;sticky&quot;: true,\n",
       "}\n",
       "            );\n",
       "        \n",
       "    \n",
       "            var circle_dcc6d874f865f8300311c5ef33bcd1f4 = L.circle(\n",
       "                [-2.461746053000012, 119.34501940000227],\n",
       "                {&quot;bubblingMouseEvents&quot;: true, &quot;color&quot;: &quot;crimson&quot;, &quot;dashArray&quot;: null, &quot;dashOffset&quot;: null, &quot;fill&quot;: true, &quot;fillColor&quot;: &quot;crimson&quot;, &quot;fillOpacity&quot;: 0.2, &quot;fillRule&quot;: &quot;evenodd&quot;, &quot;lineCap&quot;: &quot;round&quot;, &quot;lineJoin&quot;: &quot;round&quot;, &quot;opacity&quot;: 1.0, &quot;radius&quot;: 3120.2, &quot;stroke&quot;: true, &quot;weight&quot;: 3}\n",
       "            ).addTo(map_12230cf35d0f62b382e0722dc9da8bf8);\n",
       "        \n",
       "    \n",
       "            circle_dcc6d874f865f8300311c5ef33bcd1f4.bindTooltip(\n",
       "                `&lt;div&gt;\n",
       "                     Sulawesi Barat: 15601 cases\n",
       "                 &lt;/div&gt;`,\n",
       "                {\n",
       "  &quot;sticky&quot;: true,\n",
       "}\n",
       "            );\n",
       "        \n",
       "    \n",
       "            var circle_7ab98df9a38dd1ba962f651e023b55f3 = L.circle(\n",
       "                [-8.682205000000055, 121.59227100000112],\n",
       "                {&quot;bubblingMouseEvents&quot;: true, &quot;color&quot;: &quot;crimson&quot;, &quot;dashArray&quot;: null, &quot;dashOffset&quot;: null, &quot;fill&quot;: true, &quot;fillColor&quot;: &quot;crimson&quot;, &quot;fillOpacity&quot;: 0.2, &quot;fillRule&quot;: &quot;evenodd&quot;, &quot;lineCap&quot;: &quot;round&quot;, &quot;lineJoin&quot;: &quot;round&quot;, &quot;opacity&quot;: 1.0, &quot;radius&quot;: 18883.0, &quot;stroke&quot;: true, &quot;weight&quot;: 3}\n",
       "            ).addTo(map_12230cf35d0f62b382e0722dc9da8bf8);\n",
       "        \n",
       "    \n",
       "            circle_7ab98df9a38dd1ba962f651e023b55f3.bindTooltip(\n",
       "                `&lt;div&gt;\n",
       "                     Nusa Tenggara Timur: 94415 cases\n",
       "                 &lt;/div&gt;`,\n",
       "                {\n",
       "  &quot;sticky&quot;: true,\n",
       "}\n",
       "            );\n",
       "        \n",
       "    \n",
       "            var circle_ff9077ca4b288582481b9f4c1b4914c0 = L.circle(\n",
       "                [0.4538580299999954, 116.46844050000064],\n",
       "                {&quot;bubblingMouseEvents&quot;: true, &quot;color&quot;: &quot;crimson&quot;, &quot;dashArray&quot;: null, &quot;dashOffset&quot;: null, &quot;fill&quot;: true, &quot;fillColor&quot;: &quot;crimson&quot;, &quot;fillOpacity&quot;: 0.2, &quot;fillRule&quot;: &quot;evenodd&quot;, &quot;lineCap&quot;: &quot;round&quot;, &quot;lineJoin&quot;: &quot;round&quot;, &quot;opacity&quot;: 1.0, &quot;radius&quot;: 41803.4, &quot;stroke&quot;: true, &quot;weight&quot;: 3}\n",
       "            ).addTo(map_12230cf35d0f62b382e0722dc9da8bf8);\n",
       "        \n",
       "    \n",
       "            circle_ff9077ca4b288582481b9f4c1b4914c0.bindTooltip(\n",
       "                `&lt;div&gt;\n",
       "                     Kalimantan Timur: 209017 cases\n",
       "                 &lt;/div&gt;`,\n",
       "                {\n",
       "  &quot;sticky&quot;: true,\n",
       "}\n",
       "            );\n",
       "        \n",
       "    \n",
       "            var circle_b0448b1717d23a32d3c782fec796e65b = L.circle(\n",
       "                [-4.666209529999922, 138.6960300000027],\n",
       "                {&quot;bubblingMouseEvents&quot;: true, &quot;color&quot;: &quot;crimson&quot;, &quot;dashArray&quot;: null, &quot;dashOffset&quot;: null, &quot;fill&quot;: true, &quot;fillColor&quot;: &quot;crimson&quot;, &quot;fillOpacity&quot;: 0.2, &quot;fillRule&quot;: &quot;evenodd&quot;, &quot;lineCap&quot;: &quot;round&quot;, &quot;lineJoin&quot;: &quot;round&quot;, &quot;opacity&quot;: 1.0, &quot;radius&quot;: 9985.4, &quot;stroke&quot;: true, &quot;weight&quot;: 3}\n",
       "            ).addTo(map_12230cf35d0f62b382e0722dc9da8bf8);\n",
       "        \n",
       "    \n",
       "            circle_b0448b1717d23a32d3c782fec796e65b.bindTooltip(\n",
       "                `&lt;div&gt;\n",
       "                     Papua: 49927 cases\n",
       "                 &lt;/div&gt;`,\n",
       "                {\n",
       "  &quot;sticky&quot;: true,\n",
       "}\n",
       "            );\n",
       "        \n",
       "    \n",
       "            var circle_fed7c9c296ec83c3c447b447a6ad0b35 = L.circle(\n",
       "                [4.225614628000037, 96.91052174000116],\n",
       "                {&quot;bubblingMouseEvents&quot;: true, &quot;color&quot;: &quot;crimson&quot;, &quot;dashArray&quot;: null, &quot;dashOffset&quot;: null, &quot;fill&quot;: true, &quot;fillColor&quot;: &quot;crimson&quot;, &quot;fillOpacity&quot;: 0.2, &quot;fillRule&quot;: &quot;evenodd&quot;, &quot;lineCap&quot;: &quot;round&quot;, &quot;lineJoin&quot;: &quot;round&quot;, &quot;opacity&quot;: 1.0, &quot;radius&quot;: 8807.6, &quot;stroke&quot;: true, &quot;weight&quot;: 3}\n",
       "            ).addTo(map_12230cf35d0f62b382e0722dc9da8bf8);\n",
       "        \n",
       "    \n",
       "            circle_fed7c9c296ec83c3c447b447a6ad0b35.bindTooltip(\n",
       "                `&lt;div&gt;\n",
       "                     Aceh: 44038 cases\n",
       "                 &lt;/div&gt;`,\n",
       "                {\n",
       "  &quot;sticky&quot;: true,\n",
       "}\n",
       "            );\n",
       "        \n",
       "    \n",
       "            var circle_73fc7eb48b8305f9204d9061f71ae335 = L.circle(\n",
       "                [-0.08647457200000018, 111.1211775999985],\n",
       "                {&quot;bubblingMouseEvents&quot;: true, &quot;color&quot;: &quot;crimson&quot;, &quot;dashArray&quot;: null, &quot;dashOffset&quot;: null, &quot;fill&quot;: true, &quot;fillColor&quot;: &quot;crimson&quot;, &quot;fillOpacity&quot;: 0.2, &quot;fillRule&quot;: &quot;evenodd&quot;, &quot;lineCap&quot;: &quot;round&quot;, &quot;lineJoin&quot;: &quot;round&quot;, &quot;opacity&quot;: 1.0, &quot;radius&quot;: 13121.0, &quot;stroke&quot;: true, &quot;weight&quot;: 3}\n",
       "            ).addTo(map_12230cf35d0f62b382e0722dc9da8bf8);\n",
       "        \n",
       "    \n",
       "            circle_73fc7eb48b8305f9204d9061f71ae335.bindTooltip(\n",
       "                `&lt;div&gt;\n",
       "                     Kalimantan Barat: 65605 cases\n",
       "                 &lt;/div&gt;`,\n",
       "                {\n",
       "  &quot;sticky&quot;: true,\n",
       "}\n",
       "            );\n",
       "        \n",
       "    \n",
       "            var circle_323d39038bfda4eb4a82a978562288c9 = L.circle(\n",
       "                [-2.9935949790000036, 115.43857830000228],\n",
       "                {&quot;bubblingMouseEvents&quot;: true, &quot;color&quot;: &quot;crimson&quot;, &quot;dashArray&quot;: null, &quot;dashOffset&quot;: null, &quot;fill&quot;: true, &quot;fillColor&quot;: &quot;crimson&quot;, &quot;fillOpacity&quot;: 0.2, &quot;fillRule&quot;: &quot;evenodd&quot;, &quot;lineCap&quot;: &quot;round&quot;, &quot;lineJoin&quot;: &quot;round&quot;, &quot;opacity&quot;: 1.0, &quot;radius&quot;: 17495.2, &quot;stroke&quot;: true, &quot;weight&quot;: 3}\n",
       "            ).addTo(map_12230cf35d0f62b382e0722dc9da8bf8);\n",
       "        \n",
       "    \n",
       "            circle_323d39038bfda4eb4a82a978562288c9.bindTooltip(\n",
       "                `&lt;div&gt;\n",
       "                     Kalimantan Selatan: 87476 cases\n",
       "                 &lt;/div&gt;`,\n",
       "                {\n",
       "  &quot;sticky&quot;: true,\n",
       "}\n",
       "            );\n",
       "        \n",
       "    \n",
       "            var circle_3ca0765eaf9c46f66574d7607b57c117 = L.circle(\n",
       "                [-3.533583627000063, 102.33842129999951],\n",
       "                {&quot;bubblingMouseEvents&quot;: true, &quot;color&quot;: &quot;crimson&quot;, &quot;dashArray&quot;: null, &quot;dashOffset&quot;: null, &quot;fill&quot;: true, &quot;fillColor&quot;: &quot;crimson&quot;, &quot;fillOpacity&quot;: 0.2, &quot;fillRule&quot;: &quot;evenodd&quot;, &quot;lineCap&quot;: &quot;round&quot;, &quot;lineJoin&quot;: &quot;round&quot;, &quot;opacity&quot;: 1.0, &quot;radius&quot;: 5834.6, &quot;stroke&quot;: true, &quot;weight&quot;: 3}\n",
       "            ).addTo(map_12230cf35d0f62b382e0722dc9da8bf8);\n",
       "        \n",
       "    \n",
       "            circle_3ca0765eaf9c46f66574d7607b57c117.bindTooltip(\n",
       "                `&lt;div&gt;\n",
       "                     Bengkulu: 29173 cases\n",
       "                 &lt;/div&gt;`,\n",
       "                {\n",
       "  &quot;sticky&quot;: true,\n",
       "}\n",
       "            );\n",
       "        \n",
       "&lt;/script&gt;\n",
       "&lt;/html&gt;\" style=\"position:absolute;width:100%;height:100%;left:0;top:0;border:none !important;\" allowfullscreen webkitallowfullscreen mozallowfullscreen></iframe></div></div>"
      ],
      "text/plain": [
       "<folium.folium.Map at 0x225e5fc98b0>"
      ]
     },
     "execution_count": 61,
     "metadata": {},
     "output_type": "execute_result"
    }
   ],
   "source": [
    "# Create a map\n",
    "\n",
    "m = folium.Map(location=[geo_data['latitude'].mean(), geo_data['longitude'].mean()], zoom_start=5)\n",
    "\n",
    "# Add markers for each province\n",
    "\n",
    "for i, row in geo_data.iterrows():\n",
    "    folium.Circle(\n",
    "        location=[row['latitude'], row['longitude']],\n",
    "        radius=row['total_cases']/5 ,  \n",
    "        color='crimson',  \n",
    "        fill=True,\n",
    "        fill_color='crimson',  \n",
    "        tooltip=f\"{row['location']}: {row['total_cases']} cases\",  \n",
    "    ).add_to(m)\n",
    "\n",
    "# show map\n",
    "m"
   ]
  },
  {
   "cell_type": "markdown",
   "metadata": {},
   "source": [
    "## Total Cases vs Population Density"
   ]
  },
  {
   "cell_type": "code",
   "execution_count": 63,
   "metadata": {},
   "outputs": [],
   "source": [
    "cases_vs_popdens = sql(\n",
    "    \"\"\"\n",
    "    SELECT \n",
    "        location,\n",
    "        MAX(total_cases) total_cases,\n",
    "        AVG(population_density) as population_density\n",
    "    FROM df\n",
    "    GROUP BY location\n",
    "    ORDER BY total_cases DESC\n",
    "    \"\"\"\n",
    ")"
   ]
  },
  {
   "cell_type": "code",
   "execution_count": 71,
   "metadata": {},
   "outputs": [
    {
     "data": {
      "image/png": "[encoded data removed]",
      "text/plain": [
       "<Figure size 1200x600 with 2 Axes>"
      ]
     },
     "metadata": {},
     "output_type": "display_data"
    }
   ],
   "source": [
    "plt.style.use('default')\n",
    "\n",
    "fig, ax1 = plt.subplots(figsize=(12, 6))\n",
    "\n",
    "ax1.bar(cases_vs_popdens['location'], cases_vs_popdens['total_cases'])\n",
    "ax1.set_xlabel('')\n",
    "ax1.set_ylabel('Total Cases')   \n",
    "ax1.tick_params(axis='x', rotation=90)\n",
    "\n",
    "ax2 = ax1.twinx()\n",
    "ax2.plot(cases_vs_popdens['location'], cases_vs_popdens['population_density'], color='r', marker='o')\n",
    "ax2.set_ylabel('Average Population Density')\n",
    "\n",
    "plt.title('Comparison of Total Cases and Population Density per Province')\n",
    "plt.show()"
   ]
  },
  {
   "cell_type": "markdown",
   "metadata": {},
   "source": [
    "Generally, there appears to be a correlation between population density and the number of COVID-19 cases. Provinces with higher population densities tend to have more cases. This pattern suggests that transmission rates could be influenced by the population concentration."
   ]
  },
  {
   "cell_type": "markdown",
   "metadata": {},
   "source": [
    "## Conclusion\n",
    "\n",
    "The analysis of COVID-19 data in Indonesia from March 2020 to September 2022 shows significant fluctuations in case numbers, with prominent spikes in May-July 2021 and January-February 2022. These increases align with major events such as Eid al-Fitr and the global emergence of the Omicron variant. The island of Java, particularly DKI Jakarta, exhibits the highest concentration of cases, significantly impacted by factors like population density, which correlates with the spread of the virus.\n",
    "\n",
    "## Recommendations\n",
    "\n",
    "- Implement more stringent monitoring and preventive measures during and after major holidays or events like Eid al-Fitr, when increased travel and social interaction heighten the risk of virus spread.\n",
    "- Strengthen health infrastructure in areas with high population density, particularly on Java, to manage surges more effectively.\n",
    "- Maintain and enhance data collection and analysis capabilities to identify emerging trends and respond quickly to potential future surges in cases."
   ]
  }
 ],
 "metadata": {
  "kernelspec": {
   "display_name": "py3_12_7",
   "language": "python",
   "name": "python3"
  },
  "language_info": {
   "codemirror_mode": {
    "name": "ipython",
    "version": 3
   },
   "file_extension": ".py",
   "mimetype": "text/x-python",
   "name": "python",
   "nbconvert_exporter": "python",
   "pygments_lexer": "ipython3",
   "version": "3.12.7"
  }
 },
 "nbformat": 4,
 "nbformat_minor": 2
}
